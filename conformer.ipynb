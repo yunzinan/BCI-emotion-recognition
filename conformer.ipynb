{
 "cells": [
  {
   "cell_type": "markdown",
   "metadata": {},
   "source": [
    "# Step 1. Getting the SEED dataset"
   ]
  },
  {
   "cell_type": "markdown",
   "metadata": {},
   "source": [
    "## 1.1 load the matlab format files and take a look"
   ]
  },
  {
   "cell_type": "code",
   "execution_count": 1,
   "metadata": {},
   "outputs": [],
   "source": [
    "%load_ext memory_profiler"
   ]
  },
  {
   "cell_type": "code",
   "execution_count": 2,
   "metadata": {},
   "outputs": [
    {
     "name": "stdout",
     "output_type": "stream",
     "text": [
      "peak memory: 90.30 MiB, increment: 0.13 MiB\n"
     ]
    }
   ],
   "source": [
    "%memit"
   ]
  },
  {
   "cell_type": "code",
   "execution_count": 3,
   "metadata": {},
   "outputs": [],
   "source": [
    "import mne\n",
    "from scipy import io\n",
    "import os\n",
    "import numpy as np"
   ]
  },
  {
   "cell_type": "code",
   "execution_count": 4,
   "metadata": {},
   "outputs": [],
   "source": [
    "folderpath = \"./Preprocessed_EEG\""
   ]
  },
  {
   "cell_type": "code",
   "execution_count": 5,
   "metadata": {},
   "outputs": [
    {
     "name": "stdout",
     "output_type": "stream",
     "text": [
      "peak memory: 521.09 MiB, increment: 328.91 MiB\n",
      "peak memory: 848.60 MiB, increment: 327.49 MiB\n",
      "peak memory: 1173.78 MiB, increment: 325.07 MiB\n",
      "peak memory: 1496.71 MiB, increment: 322.93 MiB\n",
      "peak memory: 1820.80 MiB, increment: 324.09 MiB\n",
      "peak memory: 2142.70 MiB, increment: 321.90 MiB\n",
      "peak memory: 2464.36 MiB, increment: 321.62 MiB\n",
      "peak memory: 2785.41 MiB, increment: 321.04 MiB\n",
      "peak memory: 3106.59 MiB, increment: 321.08 MiB\n",
      "peak memory: 3427.80 MiB, increment: 321.14 MiB\n",
      "peak memory: 3748.96 MiB, increment: 321.14 MiB\n",
      "peak memory: 4070.77 MiB, increment: 321.81 MiB\n",
      "peak memory: 4392.56 MiB, increment: 321.79 MiB\n",
      "peak memory: 4713.99 MiB, increment: 321.38 MiB\n",
      "peak memory: 5035.14 MiB, increment: 321.15 MiB\n",
      "peak memory: 5356.19 MiB, increment: 321.04 MiB\n",
      "peak memory: 5679.13 MiB, increment: 322.85 MiB\n",
      "peak memory: 6003.65 MiB, increment: 324.52 MiB\n",
      "peak memory: 6327.34 MiB, increment: 323.62 MiB\n",
      "peak memory: 6648.52 MiB, increment: 321.18 MiB\n",
      "peak memory: 6970.86 MiB, increment: 322.34 MiB\n",
      "peak memory: 7292.02 MiB, increment: 321.16 MiB\n",
      "peak memory: 7614.62 MiB, increment: 322.60 MiB\n",
      "peak memory: 7935.77 MiB, increment: 321.14 MiB\n",
      "peak memory: 8257.18 MiB, increment: 321.42 MiB\n",
      "peak memory: 8578.34 MiB, increment: 321.15 MiB\n",
      "peak memory: 8899.47 MiB, increment: 321.13 MiB\n",
      "peak memory: 9220.79 MiB, increment: 321.32 MiB\n",
      "peak memory: 9542.14 MiB, increment: 321.35 MiB\n",
      "peak memory: 9864.01 MiB, increment: 321.87 MiB\n",
      "peak memory: 10185.23 MiB, increment: 321.22 MiB\n",
      "peak memory: 10506.39 MiB, increment: 321.16 MiB\n",
      "peak memory: 10827.43 MiB, increment: 321.04 MiB\n",
      "peak memory: 11148.66 MiB, increment: 321.13 MiB\n",
      "peak memory: 11471.19 MiB, increment: 322.54 MiB\n",
      "peak memory: 11792.36 MiB, increment: 321.16 MiB\n",
      "peak memory: 12114.87 MiB, increment: 322.51 MiB\n",
      "peak memory: 12436.15 MiB, increment: 321.20 MiB\n",
      "peak memory: 12757.30 MiB, increment: 321.15 MiB\n",
      "peak memory: 13078.45 MiB, increment: 321.15 MiB\n",
      "peak memory: 13399.54 MiB, increment: 321.09 MiB\n",
      "peak memory: 13720.71 MiB, increment: 321.13 MiB\n",
      "peak memory: 14041.76 MiB, increment: 321.04 MiB\n",
      "peak memory: 14363.03 MiB, increment: 321.18 MiB\n",
      "peak memory: 14684.52 MiB, increment: 321.39 MiB\n"
     ]
    }
   ],
   "source": [
    "raw_eeg = []\n",
    "%memit raw_eeg.append(io.loadmat('./Preprocessed_EEG/1_20131027.mat'))\n",
    "%memit raw_eeg.append(io.loadmat('./Preprocessed_EEG/1_20131030.mat'))\n",
    "%memit raw_eeg.append(io.loadmat('./Preprocessed_EEG/1_20131107.mat'))\n",
    "%memit raw_eeg.append(io.loadmat('./Preprocessed_EEG/2_20140404.mat'))\n",
    "%memit raw_eeg.append(io.loadmat('./Preprocessed_EEG/2_20140413.mat'))\n",
    "%memit raw_eeg.append(io.loadmat('./Preprocessed_EEG/2_20140419.mat'))\n",
    "%memit raw_eeg.append(io.loadmat('./Preprocessed_EEG/3_20140603.mat'))\n",
    "%memit raw_eeg.append(io.loadmat('./Preprocessed_EEG/3_20140611.mat'))\n",
    "%memit raw_eeg.append(io.loadmat('./Preprocessed_EEG/3_20140629.mat'))\n",
    "%memit raw_eeg.append(io.loadmat('./Preprocessed_EEG/4_20140621.mat'))\n",
    "%memit raw_eeg.append(io.loadmat('./Preprocessed_EEG/4_20140702.mat'))\n",
    "%memit raw_eeg.append(io.loadmat('./Preprocessed_EEG/4_20140705.mat'))\n",
    "%memit raw_eeg.append(io.loadmat('./Preprocessed_EEG/5_20140411.mat'))\n",
    "%memit raw_eeg.append(io.loadmat('./Preprocessed_EEG/5_20140418.mat'))\n",
    "%memit raw_eeg.append(io.loadmat('./Preprocessed_EEG/5_20140506.mat'))\n",
    "%memit raw_eeg.append(io.loadmat('./Preprocessed_EEG/6_20130712.mat'))\n",
    "%memit raw_eeg.append(io.loadmat('./Preprocessed_EEG/6_20131016.mat'))\n",
    "%memit raw_eeg.append(io.loadmat('./Preprocessed_EEG/6_20131113.mat'))\n",
    "%memit raw_eeg.append(io.loadmat('./Preprocessed_EEG/7_20131027.mat'))\n",
    "%memit raw_eeg.append(io.loadmat('./Preprocessed_EEG/7_20131030.mat'))\n",
    "%memit raw_eeg.append(io.loadmat('./Preprocessed_EEG/7_20131106.mat'))\n",
    "%memit raw_eeg.append(io.loadmat('./Preprocessed_EEG/8_20140511.mat'))\n",
    "%memit raw_eeg.append(io.loadmat('./Preprocessed_EEG/8_20140514.mat'))\n",
    "%memit raw_eeg.append(io.loadmat('./Preprocessed_EEG/8_20140521.mat'))\n",
    "%memit raw_eeg.append(io.loadmat('./Preprocessed_EEG/9_20140620.mat'))\n",
    "%memit raw_eeg.append(io.loadmat('./Preprocessed_EEG/9_20140627.mat'))\n",
    "%memit raw_eeg.append(io.loadmat('./Preprocessed_EEG/9_20140704.mat'))\n",
    "%memit raw_eeg.append(io.loadmat('./Preprocessed_EEG/10_20131130.mat'))\n",
    "%memit raw_eeg.append(io.loadmat('./Preprocessed_EEG/10_20131204.mat'))\n",
    "%memit raw_eeg.append(io.loadmat('./Preprocessed_EEG/10_20131211.mat'))\n",
    "%memit raw_eeg.append(io.loadmat('./Preprocessed_EEG/11_20140618.mat'))\n",
    "%memit raw_eeg.append(io.loadmat('./Preprocessed_EEG/11_20140625.mat'))\n",
    "%memit raw_eeg.append(io.loadmat('./Preprocessed_EEG/11_20140630.mat'))\n",
    "%memit raw_eeg.append(io.loadmat('./Preprocessed_EEG/12_20131127.mat'))\n",
    "%memit raw_eeg.append(io.loadmat('./Preprocessed_EEG/12_20131201.mat'))\n",
    "%memit raw_eeg.append(io.loadmat('./Preprocessed_EEG/12_20131207.mat'))\n",
    "%memit raw_eeg.append(io.loadmat('./Preprocessed_EEG/13_20140527.mat'))\n",
    "%memit raw_eeg.append(io.loadmat('./Preprocessed_EEG/13_20140603.mat'))\n",
    "%memit raw_eeg.append(io.loadmat('./Preprocessed_EEG/13_20140610.mat'))\n",
    "%memit raw_eeg.append(io.loadmat('./Preprocessed_EEG/14_20140601.mat'))\n",
    "%memit raw_eeg.append(io.loadmat('./Preprocessed_EEG/14_20140615.mat'))\n",
    "%memit raw_eeg.append(io.loadmat('./Preprocessed_EEG/14_20140627.mat'))\n",
    "%memit raw_eeg.append(io.loadmat('./Preprocessed_EEG/15_20130709.mat'))\n",
    "%memit raw_eeg.append(io.loadmat('./Preprocessed_EEG/15_20131016.mat'))\n",
    "%memit raw_eeg.append(io.loadmat('./Preprocessed_EEG/15_20131105.mat'))"
   ]
  },
  {
   "cell_type": "code",
   "execution_count": 7,
   "metadata": {},
   "outputs": [
    {
     "data": {
      "text/plain": [
       "45"
      ]
     },
     "execution_count": 7,
     "metadata": {},
     "output_type": "execute_result"
    }
   ],
   "source": [
    "len(raw_eeg)"
   ]
  },
  {
   "cell_type": "code",
   "execution_count": 6,
   "metadata": {},
   "outputs": [
    {
     "name": "stdout",
     "output_type": "stream",
     "text": [
      "dict_keys(['__header__', '__version__', '__globals__', 'djc_eeg1', 'djc_eeg2', 'djc_eeg3', 'djc_eeg4', 'djc_eeg5', 'djc_eeg6', 'djc_eeg7', 'djc_eeg8', 'djc_eeg9', 'djc_eeg10', 'djc_eeg11', 'djc_eeg12', 'djc_eeg13', 'djc_eeg14', 'djc_eeg15'])\n",
      "dict_keys(['__header__', '__version__', '__globals__', 'jl_eeg1', 'jl_eeg2', 'jl_eeg3', 'jl_eeg4', 'jl_eeg5', 'jl_eeg6', 'jl_eeg7', 'jl_eeg8', 'jl_eeg9', 'jl_eeg10', 'jl_eeg11', 'jl_eeg12', 'jl_eeg13', 'jl_eeg14', 'jl_eeg15'])\n",
      "dict_keys(['__header__', '__version__', '__globals__', 'jj_eeg1', 'jj_eeg2', 'jj_eeg3', 'jj_eeg4', 'jj_eeg5', 'jj_eeg6', 'jj_eeg7', 'jj_eeg8', 'jj_eeg9', 'jj_eeg10', 'jj_eeg11', 'jj_eeg12', 'jj_eeg13', 'jj_eeg14', 'jj_eeg15'])\n",
      "dict_keys(['__header__', '__version__', '__globals__', 'lqj_eeg1', 'lqj_eeg2', 'lqj_eeg3', 'lqj_eeg4', 'lqj_eeg5', 'lqj_eeg6', 'lqj_eeg7', 'lqj_eeg8', 'lqj_eeg9', 'lqj_eeg10', 'lqj_eeg11', 'lqj_eeg12', 'lqj_eeg13', 'lqj_eeg14', 'lqj_eeg15'])\n",
      "dict_keys(['__header__', '__version__', '__globals__', 'ly_eeg1', 'ly_eeg2', 'ly_eeg3', 'ly_eeg4', 'ly_eeg5', 'ly_eeg6', 'ly_eeg7', 'ly_eeg8', 'ly_eeg9', 'ly_eeg10', 'ly_eeg11', 'ly_eeg12', 'ly_eeg13', 'ly_eeg14', 'ly_eeg15'])\n",
      "dict_keys(['__header__', '__version__', '__globals__', 'mhw_eeg1', 'mhw_eeg2', 'mhw_eeg3', 'mhw_eeg4', 'mhw_eeg5', 'mhw_eeg6', 'mhw_eeg7', 'mhw_eeg8', 'mhw_eeg9', 'mhw_eeg10', 'mhw_eeg11', 'mhw_eeg12', 'mhw_eeg13', 'mhw_eeg14', 'mhw_eeg15'])\n",
      "dict_keys(['__header__', '__version__', '__globals__', 'phl_eeg1', 'phl_eeg2', 'phl_eeg3', 'phl_eeg4', 'phl_eeg5', 'phl_eeg6', 'phl_eeg7', 'phl_eeg8', 'phl_eeg9', 'phl_eeg10', 'phl_eeg11', 'phl_eeg12', 'phl_eeg13', 'phl_eeg14', 'phl_eeg15'])\n",
      "dict_keys(['__header__', '__version__', '__globals__', 'sxy_eeg1', 'sxy_eeg2', 'sxy_eeg3', 'sxy_eeg4', 'sxy_eeg5', 'sxy_eeg6', 'sxy_eeg7', 'sxy_eeg8', 'sxy_eeg9', 'sxy_eeg10', 'sxy_eeg11', 'sxy_eeg12', 'sxy_eeg13', 'sxy_eeg14', 'sxy_eeg15'])\n",
      "dict_keys(['__header__', '__version__', '__globals__', 'wk_eeg1', 'wk_eeg2', 'wk_eeg3', 'wk_eeg4', 'wk_eeg5', 'wk_eeg6', 'wk_eeg7', 'wk_eeg8', 'wk_eeg9', 'wk_eeg10', 'wk_eeg11', 'wk_eeg12', 'wk_eeg13', 'wk_eeg14', 'wk_eeg15'])\n",
      "dict_keys(['__header__', '__version__', '__globals__', 'ww_eeg1', 'ww_eeg2', 'ww_eeg3', 'ww_eeg4', 'ww_eeg5', 'ww_eeg6', 'ww_eeg7', 'ww_eeg8', 'ww_eeg9', 'ww_eeg10', 'ww_eeg11', 'ww_eeg12', 'ww_eeg13', 'ww_eeg14', 'ww_eeg15'])\n",
      "dict_keys(['__header__', '__version__', '__globals__', 'wsf_eeg1', 'wsf_eeg2', 'wsf_eeg3', 'wsf_eeg4', 'wsf_eeg5', 'wsf_eeg6', 'wsf_eeg7', 'wsf_eeg8', 'wsf_eeg9', 'wsf_eeg10', 'wsf_eeg11', 'wsf_eeg12', 'wsf_eeg13', 'wsf_eeg14', 'wsf_eeg15'])\n",
      "dict_keys(['__header__', '__version__', '__globals__', 'wyw_eeg1', 'wyw_eeg2', 'wyw_eeg3', 'wyw_eeg4', 'wyw_eeg5', 'wyw_eeg6', 'wyw_eeg7', 'wyw_eeg8', 'wyw_eeg9', 'wyw_eeg10', 'wyw_eeg11', 'wyw_eeg12', 'wyw_eeg13', 'wyw_eeg14', 'wyw_eeg15'])\n",
      "dict_keys(['__header__', '__version__', '__globals__', 'xyl_eeg1', 'xyl_eeg2', 'xyl_eeg3', 'xyl_eeg4', 'xyl_eeg5', 'xyl_eeg6', 'xyl_eeg7', 'xyl_eeg8', 'xyl_eeg9', 'xyl_eeg10', 'xyl_eeg11', 'xyl_eeg12', 'xyl_eeg13', 'xyl_eeg14', 'xyl_eeg15'])\n",
      "dict_keys(['__header__', '__version__', '__globals__', 'ys_eeg1', 'ys_eeg2', 'ys_eeg3', 'ys_eeg4', 'ys_eeg5', 'ys_eeg6', 'ys_eeg7', 'ys_eeg8', 'ys_eeg9', 'ys_eeg10', 'ys_eeg11', 'ys_eeg12', 'ys_eeg13', 'ys_eeg14', 'ys_eeg15'])\n",
      "dict_keys(['__header__', '__version__', '__globals__', 'zjy_eeg1', 'zjy_eeg2', 'zjy_eeg3', 'zjy_eeg4', 'zjy_eeg5', 'zjy_eeg6', 'zjy_eeg7', 'zjy_eeg8', 'zjy_eeg9', 'zjy_eeg10', 'zjy_eeg11', 'zjy_eeg12', 'zjy_eeg13', 'zjy_eeg14', 'zjy_eeg15'])\n"
     ]
    }
   ],
   "source": [
    "for i in range(15):\n",
    "    print(raw_eeg[3 * i].keys())"
   ]
  },
  {
   "cell_type": "code",
   "execution_count": 8,
   "metadata": {},
   "outputs": [
    {
     "data": {
      "text/plain": [
       "((62, 47001), (62, 47001))"
      ]
     },
     "execution_count": 8,
     "metadata": {},
     "output_type": "execute_result"
    }
   ],
   "source": [
    "raw_eeg[0]['djc_eeg1'].shape, raw_eeg[4]['jl_eeg1'].shape"
   ]
  },
  {
   "cell_type": "markdown",
   "metadata": {},
   "source": [
    "raw_1_1['djc_eeg1']:\n",
    "- raw_1_1: the raw eeg data, the 1st subject(out of 15 subjects), the 1st experiments(out of 3 experiments)\n",
    "- 'djc_eeg1': djc could possibly mean the name of the subject(which leaks the privacy XD), and 'eeg1' represents it is the 1st trial(out of 15 trials)\n",
    "- 62: n_channels\n",
    "- 47001: roughly 4 mins(240sec * 200 Hz sampling rate) the eeg signal during watching the movies"
   ]
  },
  {
   "cell_type": "code",
   "execution_count": 9,
   "metadata": {},
   "outputs": [],
   "source": [
    "label = io.loadmat('./Preprocessed_EEG/label.mat')"
   ]
  },
  {
   "cell_type": "code",
   "execution_count": 10,
   "metadata": {},
   "outputs": [
    {
     "data": {
      "text/plain": [
       "array([ 1,  0, -1, -1,  0,  1, -1,  0,  1,  1,  0, -1,  0,  1, -1],\n",
       "      dtype=int16)"
      ]
     },
     "execution_count": 10,
     "metadata": {},
     "output_type": "execute_result"
    }
   ],
   "source": [
    "label['label'][0]"
   ]
  },
  {
   "cell_type": "markdown",
   "metadata": {},
   "source": [
    "## 1.2 Create the torch dataset"
   ]
  },
  {
   "cell_type": "markdown",
   "metadata": {},
   "source": [
    "### 1.2.1 cut compute windows\n",
    "\n",
    "since a movie clip contains eeg signals of ~240 seconds with sf=200Hz, I decide to cut them into 4 sec windows"
   ]
  },
  {
   "cell_type": "code",
   "execution_count": 11,
   "metadata": {},
   "outputs": [],
   "source": [
    "len_window = 200 * 4\n",
    "\n",
    "raw_X = []\n",
    "raw_y = []\n",
    "\n",
    "prefix = ['djc', 'jl', 'jj', 'lqj', 'ly', 'mhw', 'phl', 'sxy', 'wk', 'ww', 'wsf', 'wyw', 'xyl', 'ys', 'zjy']\n",
    "sub = 0\n",
    "\n",
    "while raw_eeg and sub < 12: # only using the first 12 subjects to avoid memory exceed\n",
    "    # exp 1\n",
    "    element = raw_eeg.pop(0)\n",
    "    for i in range(1, 16):\n",
    "        data = element[prefix[sub] + \"_eeg\" + str(i)]\n",
    "        # print(data.shape)\n",
    "        n_windows = data.shape[1] // len_window\n",
    "        # print(n_windows)\n",
    "        reshaped_X = np.reshape(data[:, :n_windows * len_window], (62, len_window, n_windows))\n",
    "        raw_X.append(reshaped_X)\n",
    "        raw_y.append(np.array([label['label'][0][i-1] for j in range(n_windows)]))\n",
    "    del element\n",
    "\n",
    "\n",
    "    # exp 2 \n",
    "    element = raw_eeg.pop(0)\n",
    "    for i in range(1, 16):\n",
    "        data = element[prefix[sub] + \"_eeg\" + str(i)]\n",
    "        # print(data.shape)\n",
    "        n_windows = data.shape[1] // len_window\n",
    "        # print(n_windows)\n",
    "        reshaped_X = np.reshape(data[:, :n_windows * len_window], (62, len_window, n_windows))\n",
    "        raw_X.append(reshaped_X)\n",
    "        raw_y.append(np.array([label['label'][0][i-1] for j in range(n_windows)]))\n",
    "    del element\n",
    "\n",
    "    # exp 1\n",
    "    element = raw_eeg.pop(0)\n",
    "    for i in range(1, 16):\n",
    "        data = element[prefix[sub] + \"_eeg\" + str(i)]\n",
    "        # print(data.shape)\n",
    "        n_windows = data.shape[1] // len_window\n",
    "        # print(n_windows)\n",
    "        reshaped_X = np.reshape(data[:, :n_windows * len_window], (62, len_window, n_windows))\n",
    "        raw_X.append(reshaped_X)\n",
    "        raw_y.append(np.array([label['label'][0][i-1] for j in range(n_windows)]))\n",
    "    del element\n",
    "\n",
    "    sub += 1"
   ]
  },
  {
   "cell_type": "code",
   "execution_count": 12,
   "metadata": {},
   "outputs": [
    {
     "name": "stdout",
     "output_type": "stream",
     "text": [
      "peak memory: 26155.39 MiB, increment: 11470.61 MiB\n",
      "(62, 800, 30312)\n",
      "(30312,)\n",
      "peak memory: 26155.40 MiB, increment: 0.00 MiB\n"
     ]
    }
   ],
   "source": [
    "%memit concat_X = np.concatenate(raw_X, axis=2)\n",
    "print(concat_X.shape)\n",
    "concat_y = np.concatenate(raw_y)\n",
    "print(concat_y.shape)\n",
    "\n",
    "%memit del raw_X, raw_y"
   ]
  },
  {
   "cell_type": "markdown",
   "metadata": {},
   "source": [
    "### 1.2.2 Encode the labels"
   ]
  },
  {
   "cell_type": "code",
   "execution_count": 13,
   "metadata": {},
   "outputs": [],
   "source": [
    "from sklearn.preprocessing import LabelEncoder\n",
    "import pandas as pd"
   ]
  },
  {
   "cell_type": "code",
   "execution_count": 14,
   "metadata": {},
   "outputs": [
    {
     "data": {
      "text/plain": [
       "array([ 1,  1,  1, ..., -1, -1, -1], dtype=int16)"
      ]
     },
     "execution_count": 14,
     "metadata": {},
     "output_type": "execute_result"
    }
   ],
   "source": [
    "concat_y"
   ]
  },
  {
   "cell_type": "code",
   "execution_count": 15,
   "metadata": {},
   "outputs": [
    {
     "data": {
      "text/html": [
       "<div>\n",
       "<style scoped>\n",
       "    .dataframe tbody tr th:only-of-type {\n",
       "        vertical-align: middle;\n",
       "    }\n",
       "\n",
       "    .dataframe tbody tr th {\n",
       "        vertical-align: top;\n",
       "    }\n",
       "\n",
       "    .dataframe thead th {\n",
       "        text-align: right;\n",
       "    }\n",
       "</style>\n",
       "<table border=\"1\" class=\"dataframe\">\n",
       "  <thead>\n",
       "    <tr style=\"text-align: right;\">\n",
       "      <th></th>\n",
       "      <th>0</th>\n",
       "      <th>1</th>\n",
       "      <th>2</th>\n",
       "    </tr>\n",
       "  </thead>\n",
       "  <tbody>\n",
       "    <tr>\n",
       "      <th>0</th>\n",
       "      <td>0</td>\n",
       "      <td>0</td>\n",
       "      <td>1</td>\n",
       "    </tr>\n",
       "    <tr>\n",
       "      <th>1</th>\n",
       "      <td>0</td>\n",
       "      <td>0</td>\n",
       "      <td>1</td>\n",
       "    </tr>\n",
       "    <tr>\n",
       "      <th>2</th>\n",
       "      <td>0</td>\n",
       "      <td>0</td>\n",
       "      <td>1</td>\n",
       "    </tr>\n",
       "    <tr>\n",
       "      <th>3</th>\n",
       "      <td>0</td>\n",
       "      <td>0</td>\n",
       "      <td>1</td>\n",
       "    </tr>\n",
       "    <tr>\n",
       "      <th>4</th>\n",
       "      <td>0</td>\n",
       "      <td>0</td>\n",
       "      <td>1</td>\n",
       "    </tr>\n",
       "    <tr>\n",
       "      <th>...</th>\n",
       "      <td>...</td>\n",
       "      <td>...</td>\n",
       "      <td>...</td>\n",
       "    </tr>\n",
       "    <tr>\n",
       "      <th>30307</th>\n",
       "      <td>1</td>\n",
       "      <td>0</td>\n",
       "      <td>0</td>\n",
       "    </tr>\n",
       "    <tr>\n",
       "      <th>30308</th>\n",
       "      <td>1</td>\n",
       "      <td>0</td>\n",
       "      <td>0</td>\n",
       "    </tr>\n",
       "    <tr>\n",
       "      <th>30309</th>\n",
       "      <td>1</td>\n",
       "      <td>0</td>\n",
       "      <td>0</td>\n",
       "    </tr>\n",
       "    <tr>\n",
       "      <th>30310</th>\n",
       "      <td>1</td>\n",
       "      <td>0</td>\n",
       "      <td>0</td>\n",
       "    </tr>\n",
       "    <tr>\n",
       "      <th>30311</th>\n",
       "      <td>1</td>\n",
       "      <td>0</td>\n",
       "      <td>0</td>\n",
       "    </tr>\n",
       "  </tbody>\n",
       "</table>\n",
       "<p>30312 rows × 3 columns</p>\n",
       "</div>"
      ],
      "text/plain": [
       "       0  1  2\n",
       "0      0  0  1\n",
       "1      0  0  1\n",
       "2      0  0  1\n",
       "3      0  0  1\n",
       "4      0  0  1\n",
       "...   .. .. ..\n",
       "30307  1  0  0\n",
       "30308  1  0  0\n",
       "30309  1  0  0\n",
       "30310  1  0  0\n",
       "30311  1  0  0\n",
       "\n",
       "[30312 rows x 3 columns]"
      ]
     },
     "execution_count": 15,
     "metadata": {},
     "output_type": "execute_result"
    }
   ],
   "source": [
    "le = LabelEncoder()\n",
    "y = le.fit_transform(concat_y)\n",
    "y = pd.get_dummies(y)\n",
    "y"
   ]
  },
  {
   "cell_type": "markdown",
   "metadata": {},
   "source": [
    "one-hot encoding\n",
    "- positive:  1 => [0, 0 ,1]\n",
    "- neutral:   0 => [0, 1, 0]\n",
    "- negative: -1 => [1, 0, 0]"
   ]
  },
  {
   "cell_type": "code",
   "execution_count": 16,
   "metadata": {},
   "outputs": [
    {
     "data": {
      "text/plain": [
       "((30312, 3), (62, 800, 30312))"
      ]
     },
     "execution_count": 16,
     "metadata": {},
     "output_type": "execute_result"
    }
   ],
   "source": [
    "y.shape, concat_X.shape"
   ]
  },
  {
   "cell_type": "markdown",
   "metadata": {},
   "source": [
    "# Step 2. Create EEG-conformer model"
   ]
  },
  {
   "cell_type": "code",
   "execution_count": 17,
   "metadata": {},
   "outputs": [
    {
     "name": "stderr",
     "output_type": "stream",
     "text": [
      "/home/pai/envs/fbc/lib/python3.7/site-packages/tqdm/auto.py:21: TqdmWarning: IProgress not found. Please update jupyter and ipywidgets. See https://ipywidgets.readthedocs.io/en/stable/user_install.html\n",
      "  from .autonotebook import tqdm as notebook_tqdm\n"
     ]
    }
   ],
   "source": [
    "import torch\n",
    "# from braindecode.models import EEGConformer\n",
    "from braindecode.util import set_random_seeds\n",
    "\n",
    "from eegconformer import EEGConformer"
   ]
  },
  {
   "cell_type": "code",
   "execution_count": 18,
   "metadata": {},
   "outputs": [
    {
     "name": "stdout",
     "output_type": "stream",
     "text": [
      "True\n"
     ]
    },
    {
     "data": {
      "text/plain": [
       "'cuda'"
      ]
     },
     "execution_count": 18,
     "metadata": {},
     "output_type": "execute_result"
    }
   ],
   "source": [
    "cuda = torch.cuda.is_available()\n",
    "print(cuda)\n",
    "device = \"cuda\" if cuda else \"cpu\"\n",
    "device"
   ]
  },
  {
   "cell_type": "code",
   "execution_count": 19,
   "metadata": {},
   "outputs": [
    {
     "data": {
      "text/plain": [
       "'11.7'"
      ]
     },
     "execution_count": 19,
     "metadata": {},
     "output_type": "execute_result"
    }
   ],
   "source": [
    "cuda_version = torch.version.cuda\n",
    "cuda_version"
   ]
  },
  {
   "cell_type": "code",
   "execution_count": 20,
   "metadata": {},
   "outputs": [
    {
     "name": "stderr",
     "output_type": "stream",
     "text": [
      "/mnt/workspace/BCI-emotion-recognition/base.py:180: UserWarning: LogSoftmax final layer will be removed! Please adjust your loss function accordingly (e.g. CrossEntropyLoss)!\n",
      "  warnings.warn(\"LogSoftmax final layer will be removed! \" +\n"
     ]
    },
    {
     "name": "stdout",
     "output_type": "stream",
     "text": [
      "================================================================================================================================================================\n",
      "Layer (type (var_name):depth-idx)                            Input Shape               Output Shape              Param #                   Kernel Shape\n",
      "================================================================================================================================================================\n",
      "EEGConformer (EEGConformer)                                  [1, 62, 800]              [1, 3]                    --                        --\n",
      "├─_PatchEmbedding (patch_embedding): 1-1                     [1, 1, 62, 800]           [1, 47, 40]               --                        --\n",
      "│    └─Sequential (shallownet): 2-1                          [1, 1, 62, 800]           [1, 40, 1, 47]            --                        --\n",
      "│    │    └─Conv2d (0): 3-1                                  [1, 1, 62, 800]           [1, 40, 62, 776]          1,040                     [1, 25]\n",
      "│    │    └─Conv2d (1): 3-2                                  [1, 40, 62, 776]          [1, 40, 1, 776]           99,240                    [62, 1]\n",
      "│    │    └─BatchNorm2d (2): 3-3                             [1, 40, 1, 776]           [1, 40, 1, 776]           80                        --\n",
      "│    │    └─ELU (3): 3-4                                     [1, 40, 1, 776]           [1, 40, 1, 776]           --                        --\n",
      "│    │    └─AvgPool2d (4): 3-5                               [1, 40, 1, 776]           [1, 40, 1, 47]            --                        [1, 75]\n",
      "│    │    └─Dropout (5): 3-6                                 [1, 40, 1, 47]            [1, 40, 1, 47]            --                        --\n",
      "│    └─Sequential (projection): 2-2                          [1, 40, 1, 47]            [1, 47, 40]               --                        --\n",
      "│    │    └─Conv2d (0): 3-7                                  [1, 40, 1, 47]            [1, 40, 1, 47]            1,640                     [1, 1]\n",
      "│    │    └─Rearrange (1): 3-8                               [1, 40, 1, 47]            [1, 47, 40]               --                        --\n",
      "├─_TransformerEncoder (transformer): 1-2                     [1, 47, 40]               [1, 47, 40]               --                        --\n",
      "│    └─_TransformerEncoderBlock (0): 2-3                     [1, 47, 40]               [1, 47, 40]               --                        --\n",
      "│    │    └─_ResidualAdd (0): 3-9                            [1, 47, 40]               [1, 47, 40]               6,640                     --\n",
      "│    │    └─_ResidualAdd (1): 3-10                           [1, 47, 40]               [1, 47, 40]               13,080                    --\n",
      "│    └─_TransformerEncoderBlock (1): 2-4                     [1, 47, 40]               [1, 47, 40]               --                        --\n",
      "│    │    └─_ResidualAdd (0): 3-11                           [1, 47, 40]               [1, 47, 40]               6,640                     --\n",
      "│    │    └─_ResidualAdd (1): 3-12                           [1, 47, 40]               [1, 47, 40]               13,080                    --\n",
      "│    └─_TransformerEncoderBlock (2): 2-5                     [1, 47, 40]               [1, 47, 40]               --                        --\n",
      "│    │    └─_ResidualAdd (0): 3-13                           [1, 47, 40]               [1, 47, 40]               6,640                     --\n",
      "│    │    └─_ResidualAdd (1): 3-14                           [1, 47, 40]               [1, 47, 40]               13,080                    --\n",
      "│    └─_TransformerEncoderBlock (3): 2-6                     [1, 47, 40]               [1, 47, 40]               --                        --\n",
      "│    │    └─_ResidualAdd (0): 3-15                           [1, 47, 40]               [1, 47, 40]               6,640                     --\n",
      "│    │    └─_ResidualAdd (1): 3-16                           [1, 47, 40]               [1, 47, 40]               13,080                    --\n",
      "│    └─_TransformerEncoderBlock (4): 2-7                     [1, 47, 40]               [1, 47, 40]               --                        --\n",
      "│    │    └─_ResidualAdd (0): 3-17                           [1, 47, 40]               [1, 47, 40]               6,640                     --\n",
      "│    │    └─_ResidualAdd (1): 3-18                           [1, 47, 40]               [1, 47, 40]               13,080                    --\n",
      "│    └─_TransformerEncoderBlock (5): 2-8                     [1, 47, 40]               [1, 47, 40]               --                        --\n",
      "│    │    └─_ResidualAdd (0): 3-19                           [1, 47, 40]               [1, 47, 40]               6,640                     --\n",
      "│    │    └─_ResidualAdd (1): 3-20                           [1, 47, 40]               [1, 47, 40]               13,080                    --\n",
      "├─_FullyConnected (fc): 1-3                                  [1, 47, 40]               [1, 32]                   --                        --\n",
      "│    └─Sequential (fc): 2-9                                  [1, 1880]                 [1, 32]                   --                        --\n",
      "│    │    └─Linear (0): 3-21                                 [1, 1880]                 [1, 256]                  481,536                   --\n",
      "│    │    └─ELU (1): 3-22                                    [1, 256]                  [1, 256]                  --                        --\n",
      "│    │    └─Dropout (2): 3-23                                [1, 256]                  [1, 256]                  --                        --\n",
      "│    │    └─Linear (3): 3-24                                 [1, 256]                  [1, 32]                   8,224                     --\n",
      "│    │    └─ELU (4): 3-25                                    [1, 32]                   [1, 32]                   --                        --\n",
      "│    │    └─Dropout (5): 3-26                                [1, 32]                   [1, 32]                   --                        --\n",
      "├─_FinalLayer (final_layer): 1-4                             [1, 32]                   [1, 3]                    --                        --\n",
      "│    └─Sequential (final_layer): 2-10                        [1, 32]                   [1, 3]                    --                        --\n",
      "│    │    └─Linear (0): 3-27                                 [1, 32]                   [1, 3]                    99                        --\n",
      "│    │    └─LogSoftmax (classification): 3-28                [1, 3]                    [1, 3]                    --                        --\n",
      "================================================================================================================================================================\n",
      "Total params: 710,179\n",
      "Trainable params: 710,179\n",
      "Non-trainable params: 0\n",
      "Total mult-adds (M): 127.73\n",
      "================================================================================================================================================================\n",
      "Input size (MB): 0.20\n",
      "Forward/backward pass size (MB): 16.90\n",
      "Params size (MB): 2.84\n",
      "Estimated Total Size (MB): 19.94\n",
      "================================================================================================================================================================\n"
     ]
    }
   ],
   "source": [
    "seed = 20240216\n",
    "set_random_seeds(seed=seed, cuda=cuda)\n",
    "\n",
    "model = EEGConformer(\n",
    "    n_outputs=3,\n",
    "    n_chans=62,\n",
    "    n_times=800, # input_winodw_samples\n",
    "    input_window_seconds=4,\n",
    "    sfreq=200,\n",
    ")\n",
    "\n",
    "print(model)"
   ]
  },
  {
   "cell_type": "code",
   "execution_count": 21,
   "metadata": {},
   "outputs": [],
   "source": [
    "if cuda:\n",
    "    model.cuda()"
   ]
  },
  {
   "cell_type": "markdown",
   "metadata": {},
   "source": [
    "# Step 3. Training the model"
   ]
  },
  {
   "cell_type": "markdown",
   "metadata": {},
   "source": [
    "## 3.1 prepare the train set / test set"
   ]
  },
  {
   "cell_type": "code",
   "execution_count": 22,
   "metadata": {},
   "outputs": [],
   "source": [
    "from sklearn.model_selection import train_test_split\n",
    "import torch.nn as nn\n",
    "import torch.optim as optim\n",
    "from torch.utils.data import DataLoader, TensorDataset\n",
    "from tqdm import tqdm\n",
    "import matplotlib_inline"
   ]
  },
  {
   "cell_type": "code",
   "execution_count": 23,
   "metadata": {},
   "outputs": [
    {
     "data": {
      "text/plain": [
       "((62, 800, 30312), (30312, 3))"
      ]
     },
     "execution_count": 23,
     "metadata": {},
     "output_type": "execute_result"
    }
   ],
   "source": [
    "concat_X.shape, y.shape"
   ]
  },
  {
   "cell_type": "code",
   "execution_count": 24,
   "metadata": {},
   "outputs": [
    {
     "name": "stdout",
     "output_type": "stream",
     "text": [
      "peak memory: 17295.00 MiB, increment: 0.04 MiB\n"
     ]
    }
   ],
   "source": [
    "%memit X = concat_X.transpose((2, 0, 1))\n",
    "X.shape\n",
    "\n",
    "del concat_X"
   ]
  },
  {
   "cell_type": "code",
   "execution_count": 25,
   "metadata": {},
   "outputs": [
    {
     "name": "stdout",
     "output_type": "stream",
     "text": [
      "peak memory: 28653.89 MiB, increment: 11358.80 MiB\n"
     ]
    }
   ],
   "source": [
    "%memit X_train, X_test, y_train, y_test = train_test_split(X, y, train_size=0.7, random_state=777)\n"
   ]
  },
  {
   "cell_type": "code",
   "execution_count": 26,
   "metadata": {},
   "outputs": [],
   "source": [
    "del X"
   ]
  },
  {
   "cell_type": "code",
   "execution_count": 27,
   "metadata": {},
   "outputs": [
    {
     "data": {
      "text/plain": [
       "((21218, 62, 800), (9094, 62, 800), (21218, 3), (9094, 3))"
      ]
     },
     "execution_count": 27,
     "metadata": {},
     "output_type": "execute_result"
    }
   ],
   "source": [
    "X_train.shape, X_test.shape, y_train.shape, y_test.shape"
   ]
  },
  {
   "cell_type": "markdown",
   "metadata": {},
   "source": [
    "## 3.2 Training"
   ]
  },
  {
   "cell_type": "code",
   "execution_count": 28,
   "metadata": {},
   "outputs": [],
   "source": [
    "criterion = nn.CrossEntropyLoss()\n",
    "optimizer = optim.Adam(model.parameters(), lr=0.001)\n",
    "\n",
    "x_train_tensor = torch.from_numpy(X_train).to(torch.float32).to(device)\n",
    "y_train_tensor = torch.from_numpy(y_train.values).to(torch.float32).to(device)\n",
    "train_dataset = TensorDataset(x_train_tensor, y_train_tensor)\n",
    "train_loader = DataLoader(train_dataset, batch_size=32, shuffle=True)\n",
    "\n",
    "x_test_tensor = torch.from_numpy(X_test).to(torch.float32).to(device)\n",
    "y_test_tensor = torch.from_numpy(y_test.values).to(torch.float32).to(device)\n",
    "test_dataset = TensorDataset(x_test_tensor, y_test_tensor)\n",
    "test_loader = DataLoader(test_dataset, batch_size=32, shuffle=False)"
   ]
  },
  {
   "cell_type": "code",
   "execution_count": 29,
   "metadata": {},
   "outputs": [],
   "source": [
    "train_acc_list = []\n",
    "train_loss_list = []\n",
    "test_acc_list = []\n",
    "test_loss_list = []"
   ]
  },
  {
   "cell_type": "code",
   "execution_count": 30,
   "metadata": {},
   "outputs": [],
   "source": [
    "def train(model, x_train, y_train, x_test, y_test, save_path='./model_transformer/', n_epochs=100):\n",
    "    \"\"\"\n",
    "    the training function.\n",
    "    Attributes:\n",
    "    - model: the instance of the network\n",
    "    - save_path: the path to which the model state will be saved. None means w/o saving.\n",
    "\n",
    "    Return: \n",
    "    the best model if save_path is not None, the last model otherwise\n",
    "    \"\"\"\n",
    "    train_acc_list.clear()\n",
    "    train_loss_list.clear()\n",
    "    test_acc_list.clear()\n",
    "    test_loss_list.clear()\n",
    "    device = torch.device(\"cuda\" if torch.cuda.is_available() else \"cpu\")\n",
    "    print('the model will be trained on: ', device)\n",
    "\n",
    "    best_accuracy = 0.0\n",
    "    \n",
    "    for epoch in range(n_epochs):\n",
    "        training_loss = 0.0\n",
    "        testing_loss = 0.0\n",
    "        correct = 0\n",
    "        total = 0\n",
    "        \n",
    "        model.train()\n",
    "        for inputs, labels in tqdm(train_loader):\n",
    "            # print(inputs.shape, labels.shape)\n",
    "            inputs = inputs.to(device)\n",
    "            labels = labels.to(device)\n",
    "            # print(\"lables.size\", labels.shape)\n",
    "            optimizer.zero_grad()\n",
    "            \n",
    "            outputs = model(inputs)\n",
    "            # print(outputs.shape)\n",
    "            loss = criterion(outputs, labels)\n",
    "            loss.backward()\n",
    "            optimizer.step()\n",
    "            \n",
    "            training_loss += loss.item()\n",
    "            _, predicted = torch.max(outputs.data, 1)\n",
    "            _, label = torch.max(labels, 1)\n",
    "            # print(predicted.shape)\n",
    "            total += labels.size(0)\n",
    "            correct += (predicted == label).sum().item()\n",
    "        \n",
    "        train_loss = training_loss / len(train_loader)\n",
    "        train_loss_list.append(train_loss)\n",
    "        train_accuracy = correct / total\n",
    "        train_acc_list.append(train_accuracy)\n",
    "\n",
    "        model.eval()\n",
    "        with torch.no_grad():\n",
    "            correct = 0\n",
    "            total = 0\n",
    "            \n",
    "            for inputs, labels in test_loader:\n",
    "                inputs = inputs.to(device)\n",
    "                labels = labels.to(device)\n",
    "                \n",
    "                outputs = model(inputs)\n",
    "                loss = criterion(outputs, labels)\n",
    "                testing_loss += loss.item()\n",
    "\n",
    "\n",
    "                _, predicted = torch.max(outputs.data, 1)\n",
    "                _, label = torch.max(labels, 1)\n",
    "                total += labels.size(0)\n",
    "                correct += (predicted == label).sum().item()\n",
    "            \n",
    "            test_loss = testing_loss / len(test_loader)\n",
    "            test_loss_list.append(test_loss)\n",
    "            test_accuracy = correct / total\n",
    "            test_acc_list.append(test_accuracy)\n",
    "\n",
    "            if test_accuracy > best_accuracy:\n",
    "                best_accuracy = test_accuracy\n",
    "                if save_path is not None:\n",
    "                    torch.save(model.state_dict(), save_path + 'best_model.pth')\n",
    "                    print(\"best_model found, best acc: \", best_accuracy)\n",
    "        \n",
    "        print(f\"Epoch {epoch+1}/{n_epochs} - Train Loss: {train_loss:.4f} - Train Accuracy: {train_accuracy:.4f} - Test Loss: {test_loss:.4f} - Test Accuracy: {test_accuracy:.4f}\")\n",
    "    \n",
    "    if save_path is not None: \n",
    "        model.load_state_dict(torch.load(save_path + 'best_model.pth'))\n",
    "    \n",
    "    return model"
   ]
  },
  {
   "cell_type": "code",
   "execution_count": 31,
   "metadata": {},
   "outputs": [
    {
     "name": "stdout",
     "output_type": "stream",
     "text": [
      "the model will be trained on:  cuda\n"
     ]
    },
    {
     "name": "stderr",
     "output_type": "stream",
     "text": [
      "100%|██████████| 664/664 [00:21<00:00, 30.63it/s]\n"
     ]
    },
    {
     "name": "stdout",
     "output_type": "stream",
     "text": [
      "best_model found, best acc:  0.6094127996481197\n",
      "Epoch 1/20 - Train Loss: 0.9728 - Train Accuracy: 0.5048 - Test Loss: 0.8668 - Test Accuracy: 0.6094\n"
     ]
    },
    {
     "name": "stderr",
     "output_type": "stream",
     "text": [
      "100%|██████████| 664/664 [00:21<00:00, 31.52it/s]\n"
     ]
    },
    {
     "name": "stdout",
     "output_type": "stream",
     "text": [
      "best_model found, best acc:  0.9661315152848031\n",
      "Epoch 2/20 - Train Loss: 0.4197 - Train Accuracy: 0.8366 - Test Loss: 0.0921 - Test Accuracy: 0.9661\n"
     ]
    },
    {
     "name": "stderr",
     "output_type": "stream",
     "text": [
      "100%|██████████| 664/664 [00:21<00:00, 31.43it/s]\n"
     ]
    },
    {
     "name": "stdout",
     "output_type": "stream",
     "text": [
      "best_model found, best acc:  0.9861447107983285\n",
      "Epoch 3/20 - Train Loss: 0.1832 - Train Accuracy: 0.9370 - Test Loss: 0.0363 - Test Accuracy: 0.9861\n"
     ]
    },
    {
     "name": "stderr",
     "output_type": "stream",
     "text": [
      "100%|██████████| 664/664 [00:20<00:00, 31.87it/s]\n"
     ]
    },
    {
     "name": "stdout",
     "output_type": "stream",
     "text": [
      "best_model found, best acc:  0.9960413459423796\n",
      "Epoch 4/20 - Train Loss: 0.1181 - Train Accuracy: 0.9599 - Test Loss: 0.0151 - Test Accuracy: 0.9960\n"
     ]
    },
    {
     "name": "stderr",
     "output_type": "stream",
     "text": [
      "100%|██████████| 664/664 [00:20<00:00, 31.74it/s]\n"
     ]
    },
    {
     "name": "stdout",
     "output_type": "stream",
     "text": [
      "best_model found, best acc:  0.9970310094567847\n",
      "Epoch 5/20 - Train Loss: 0.0800 - Train Accuracy: 0.9729 - Test Loss: 0.0115 - Test Accuracy: 0.9970\n"
     ]
    },
    {
     "name": "stderr",
     "output_type": "stream",
     "text": [
      "100%|██████████| 664/664 [00:21<00:00, 31.61it/s]\n"
     ]
    },
    {
     "name": "stdout",
     "output_type": "stream",
     "text": [
      "best_model found, best acc:  0.9994501869364416\n",
      "Epoch 6/20 - Train Loss: 0.0773 - Train Accuracy: 0.9751 - Test Loss: 0.0056 - Test Accuracy: 0.9995\n"
     ]
    },
    {
     "name": "stderr",
     "output_type": "stream",
     "text": [
      "100%|██████████| 664/664 [00:20<00:00, 31.68it/s]\n"
     ]
    },
    {
     "name": "stdout",
     "output_type": "stream",
     "text": [
      "best_model found, best acc:  0.9997800747745766\n",
      "Epoch 7/20 - Train Loss: 0.0714 - Train Accuracy: 0.9761 - Test Loss: 0.0029 - Test Accuracy: 0.9998\n"
     ]
    },
    {
     "name": "stderr",
     "output_type": "stream",
     "text": [
      "100%|██████████| 664/664 [00:21<00:00, 31.56it/s]\n"
     ]
    },
    {
     "name": "stdout",
     "output_type": "stream",
     "text": [
      "Epoch 8/20 - Train Loss: 0.0541 - Train Accuracy: 0.9825 - Test Loss: 0.0086 - Test Accuracy: 0.9960\n"
     ]
    },
    {
     "name": "stderr",
     "output_type": "stream",
     "text": [
      "100%|██████████| 664/664 [00:20<00:00, 31.81it/s]\n"
     ]
    },
    {
     "name": "stdout",
     "output_type": "stream",
     "text": [
      "Epoch 9/20 - Train Loss: 0.0522 - Train Accuracy: 0.9833 - Test Loss: 0.0103 - Test Accuracy: 0.9955\n"
     ]
    },
    {
     "name": "stderr",
     "output_type": "stream",
     "text": [
      "100%|██████████| 664/664 [00:20<00:00, 31.63it/s]\n"
     ]
    },
    {
     "name": "stdout",
     "output_type": "stream",
     "text": [
      "Epoch 10/20 - Train Loss: 0.0552 - Train Accuracy: 0.9830 - Test Loss: 0.0030 - Test Accuracy: 0.9993\n"
     ]
    },
    {
     "name": "stderr",
     "output_type": "stream",
     "text": [
      "100%|██████████| 664/664 [00:20<00:00, 31.64it/s]\n"
     ]
    },
    {
     "name": "stdout",
     "output_type": "stream",
     "text": [
      "Epoch 11/20 - Train Loss: 0.0453 - Train Accuracy: 0.9850 - Test Loss: 0.0039 - Test Accuracy: 0.9995\n"
     ]
    },
    {
     "name": "stderr",
     "output_type": "stream",
     "text": [
      "100%|██████████| 664/664 [00:20<00:00, 31.70it/s]\n"
     ]
    },
    {
     "name": "stdout",
     "output_type": "stream",
     "text": [
      "Epoch 12/20 - Train Loss: 0.0603 - Train Accuracy: 0.9802 - Test Loss: 0.0028 - Test Accuracy: 0.9995\n"
     ]
    },
    {
     "name": "stderr",
     "output_type": "stream",
     "text": [
      "100%|██████████| 664/664 [00:21<00:00, 31.51it/s]\n"
     ]
    },
    {
     "name": "stdout",
     "output_type": "stream",
     "text": [
      "Epoch 13/20 - Train Loss: 0.0382 - Train Accuracy: 0.9876 - Test Loss: 0.0032 - Test Accuracy: 0.9995\n"
     ]
    },
    {
     "name": "stderr",
     "output_type": "stream",
     "text": [
      "100%|██████████| 664/664 [00:20<00:00, 31.80it/s]\n"
     ]
    },
    {
     "name": "stdout",
     "output_type": "stream",
     "text": [
      "Epoch 14/20 - Train Loss: 0.0400 - Train Accuracy: 0.9881 - Test Loss: 0.0030 - Test Accuracy: 0.9997\n"
     ]
    },
    {
     "name": "stderr",
     "output_type": "stream",
     "text": [
      "100%|██████████| 664/664 [00:20<00:00, 31.65it/s]\n"
     ]
    },
    {
     "name": "stdout",
     "output_type": "stream",
     "text": [
      "Epoch 15/20 - Train Loss: 0.0471 - Train Accuracy: 0.9856 - Test Loss: 0.0016 - Test Accuracy: 0.9998\n"
     ]
    },
    {
     "name": "stderr",
     "output_type": "stream",
     "text": [
      "100%|██████████| 664/664 [00:21<00:00, 31.56it/s]\n"
     ]
    },
    {
     "name": "stdout",
     "output_type": "stream",
     "text": [
      "Epoch 16/20 - Train Loss: 0.0320 - Train Accuracy: 0.9901 - Test Loss: 0.0030 - Test Accuracy: 0.9996\n"
     ]
    },
    {
     "name": "stderr",
     "output_type": "stream",
     "text": [
      "100%|██████████| 664/664 [00:21<00:00, 31.53it/s]\n"
     ]
    },
    {
     "name": "stdout",
     "output_type": "stream",
     "text": [
      "Epoch 17/20 - Train Loss: 0.0325 - Train Accuracy: 0.9908 - Test Loss: 0.0021 - Test Accuracy: 0.9997\n"
     ]
    },
    {
     "name": "stderr",
     "output_type": "stream",
     "text": [
      "100%|██████████| 664/664 [00:20<00:00, 31.73it/s]\n"
     ]
    },
    {
     "name": "stdout",
     "output_type": "stream",
     "text": [
      "Epoch 18/20 - Train Loss: 0.0374 - Train Accuracy: 0.9895 - Test Loss: 0.0028 - Test Accuracy: 0.9996\n"
     ]
    },
    {
     "name": "stderr",
     "output_type": "stream",
     "text": [
      "100%|██████████| 664/664 [00:21<00:00, 31.62it/s]\n"
     ]
    },
    {
     "name": "stdout",
     "output_type": "stream",
     "text": [
      "Epoch 19/20 - Train Loss: 0.0455 - Train Accuracy: 0.9868 - Test Loss: 0.0030 - Test Accuracy: 0.9992\n"
     ]
    },
    {
     "name": "stderr",
     "output_type": "stream",
     "text": [
      "100%|██████████| 664/664 [00:20<00:00, 31.69it/s]\n"
     ]
    },
    {
     "name": "stdout",
     "output_type": "stream",
     "text": [
      "Epoch 20/20 - Train Loss: 0.0334 - Train Accuracy: 0.9906 - Test Loss: 0.0029 - Test Accuracy: 0.9993\n"
     ]
    }
   ],
   "source": [
    "best_model = train(model, X_train, X_test, y_train, y_test, n_epochs=20)"
   ]
  },
  {
   "cell_type": "markdown",
   "metadata": {},
   "source": [
    "# Step 4. Assessment"
   ]
  },
  {
   "cell_type": "markdown",
   "metadata": {},
   "source": [
    "## 4.1 Training plot"
   ]
  },
  {
   "cell_type": "code",
   "execution_count": 32,
   "metadata": {},
   "outputs": [],
   "source": [
    "from matplotlib import pyplot as plt"
   ]
  },
  {
   "cell_type": "code",
   "execution_count": 33,
   "metadata": {},
   "outputs": [
    {
     "data": {
      "text/plain": [
       "Text(0.5, 0, 'epoch')"
      ]
     },
     "execution_count": 33,
     "metadata": {},
     "output_type": "execute_result"
    },
    {
     "data": {
      "image/png": "[encoded data removed]",
      "text/plain": [
       "<Figure size 640x480 with 1 Axes>"
      ]
     },
     "metadata": {},
     "output_type": "display_data"
    }
   ],
   "source": [
    "plt.plot(train_acc_list, label='train_acc')\n",
    "plt.plot(test_acc_list, label='test_acc')\n",
    "plt.xlabel('epoch')"
   ]
  },
  {
   "cell_type": "code",
   "execution_count": 34,
   "metadata": {},
   "outputs": [
    {
     "data": {
      "text/plain": [
       "Text(0.5, 0, 'epoch')"
      ]
     },
     "execution_count": 34,
     "metadata": {},
     "output_type": "execute_result"
    },
    {
     "data": {
      "image/png": "[encoded data removed]",
      "text/plain": [
       "<Figure size 640x480 with 1 Axes>"
      ]
     },
     "metadata": {},
     "output_type": "display_data"
    }
   ],
   "source": [
    "plt.plot(train_loss_list, label='train_loss')\n",
    "plt.plot(test_loss_list, label='test_loss')\n",
    "plt.xlabel('epoch')"
   ]
  },
  {
   "cell_type": "markdown",
   "metadata": {},
   "source": [
    "## 4.2 Model Evaluation"
   ]
  },
  {
   "cell_type": "code",
   "execution_count": 35,
   "metadata": {},
   "outputs": [
    {
     "name": "stdout",
     "output_type": "stream",
     "text": [
      "Test Accuracy: 0.9998\n"
     ]
    }
   ],
   "source": [
    "best_model.eval()\n",
    "with torch.no_grad():\n",
    "    correct = 0\n",
    "    total = 0\n",
    "    \n",
    "    for inputs, labels in test_loader:\n",
    "        inputs = inputs.to(device)\n",
    "        labels = labels.to(device)\n",
    "        \n",
    "        outputs = best_model(inputs)\n",
    "        _, predicted = torch.max(outputs.data, 1)\n",
    "        _, label = torch.max(labels, 1)\n",
    "        total += labels.size(0)\n",
    "        correct += (predicted == label).sum().item()\n",
    "    \n",
    "    test_accuracy = correct / total\n",
    "\n",
    "print(f\"Test Accuracy: {test_accuracy:.4f}\")"
   ]
  }
 ],
 "metadata": {
  "kernelspec": {
   "display_name": "fbc",
   "language": "python",
   "name": "python3"
  },
  "language_info": {
   "codemirror_mode": {
    "name": "ipython",
    "version": 3
   },
   "file_extension": ".py",
   "mimetype": "text/x-python",
   "name": "python",
   "nbconvert_exporter": "python",
   "pygments_lexer": "ipython3",
   "version": "3.7.16"
  },
  "orig_nbformat": 4,
  "vscode": {
   "interpreter": {
    "hash": "0483d052ddfe31120a94f745be5965e40db576257e66e08bb5a082224a64a3a3"
   }
  }
 },
 "nbformat": 4,
 "nbformat_minor": 2
}
