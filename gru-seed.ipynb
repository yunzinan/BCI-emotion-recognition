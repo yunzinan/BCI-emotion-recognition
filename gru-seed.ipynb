{
 "cells": [
  {
   "cell_type": "markdown",
   "metadata": {},
   "source": [
    "# Step 1. Getting the SEED dataset"
   ]
  },
  {
   "cell_type": "markdown",
   "metadata": {},
   "source": [
    "## 1.1 load the matlab format files and take a look"
   ]
  },
  {
   "cell_type": "code",
   "execution_count": 1,
   "metadata": {},
   "outputs": [],
   "source": [
    "import mne\n",
    "from scipy import io\n",
    "import os\n",
    "import numpy as np\n",
    "%load_ext memory_profiler"
   ]
  },
  {
   "cell_type": "code",
   "execution_count": 2,
   "metadata": {},
   "outputs": [
    {
     "name": "stdout",
     "output_type": "stream",
     "text": [
      "peak memory: 520.88 MiB, increment: 330.48 MiB\n",
      "peak memory: 848.53 MiB, increment: 327.50 MiB\n",
      "peak memory: 1175.48 MiB, increment: 326.85 MiB\n",
      "peak memory: 1498.65 MiB, increment: 323.16 MiB\n",
      "peak memory: 1824.74 MiB, increment: 326.07 MiB\n",
      "peak memory: 2146.79 MiB, increment: 322.05 MiB\n",
      "peak memory: 2468.75 MiB, increment: 321.87 MiB\n",
      "peak memory: 2790.07 MiB, increment: 321.32 MiB\n",
      "peak memory: 3111.21 MiB, increment: 321.14 MiB\n",
      "peak memory: 3432.36 MiB, increment: 321.14 MiB\n",
      "peak memory: 3753.49 MiB, increment: 321.13 MiB\n",
      "peak memory: 4075.65 MiB, increment: 322.16 MiB\n",
      "peak memory: 4398.22 MiB, increment: 322.57 MiB\n",
      "peak memory: 4719.60 MiB, increment: 321.38 MiB\n",
      "peak memory: 5040.68 MiB, increment: 321.08 MiB\n",
      "peak memory: 5361.77 MiB, increment: 321.00 MiB\n",
      "peak memory: 5685.00 MiB, increment: 323.10 MiB\n",
      "peak memory: 6010.54 MiB, increment: 325.54 MiB\n",
      "peak memory: 6334.59 MiB, increment: 324.02 MiB\n",
      "peak memory: 6655.89 MiB, increment: 321.18 MiB\n",
      "peak memory: 6978.47 MiB, increment: 322.58 MiB\n",
      "peak memory: 7300.40 MiB, increment: 321.88 MiB\n",
      "peak memory: 7622.52 MiB, increment: 322.12 MiB\n",
      "peak memory: 7944.10 MiB, increment: 321.58 MiB\n",
      "peak memory: 8265.85 MiB, increment: 321.71 MiB\n",
      "peak memory: 8587.01 MiB, increment: 321.16 MiB\n",
      "peak memory: 8908.16 MiB, increment: 321.14 MiB\n",
      "peak memory: 9229.62 MiB, increment: 321.47 MiB\n",
      "peak memory: 9550.96 MiB, increment: 321.25 MiB\n",
      "peak memory: 9872.93 MiB, increment: 321.88 MiB\n",
      "peak memory: 10194.13 MiB, increment: 321.20 MiB\n",
      "peak memory: 10515.30 MiB, increment: 321.16 MiB\n",
      "peak memory: 10836.44 MiB, increment: 321.13 MiB\n",
      "peak memory: 11157.58 MiB, increment: 321.14 MiB\n",
      "peak memory: 11479.99 MiB, increment: 322.41 MiB\n",
      "peak memory: 11801.24 MiB, increment: 321.13 MiB\n"
     ]
    }
   ],
   "source": [
    "raw_eeg = []\n",
    "%memit raw_eeg.append(io.loadmat('./Preprocessed_EEG/1_20131027.mat'))\n",
    "%memit raw_eeg.append(io.loadmat('./Preprocessed_EEG/1_20131030.mat'))\n",
    "%memit raw_eeg.append(io.loadmat('./Preprocessed_EEG/1_20131107.mat'))\n",
    "%memit raw_eeg.append(io.loadmat('./Preprocessed_EEG/2_20140404.mat'))\n",
    "%memit raw_eeg.append(io.loadmat('./Preprocessed_EEG/2_20140413.mat'))\n",
    "%memit raw_eeg.append(io.loadmat('./Preprocessed_EEG/2_20140419.mat'))\n",
    "%memit raw_eeg.append(io.loadmat('./Preprocessed_EEG/3_20140603.mat'))\n",
    "%memit raw_eeg.append(io.loadmat('./Preprocessed_EEG/3_20140611.mat'))\n",
    "%memit raw_eeg.append(io.loadmat('./Preprocessed_EEG/3_20140629.mat'))\n",
    "%memit raw_eeg.append(io.loadmat('./Preprocessed_EEG/4_20140621.mat'))\n",
    "%memit raw_eeg.append(io.loadmat('./Preprocessed_EEG/4_20140702.mat'))\n",
    "%memit raw_eeg.append(io.loadmat('./Preprocessed_EEG/4_20140705.mat'))\n",
    "%memit raw_eeg.append(io.loadmat('./Preprocessed_EEG/5_20140411.mat'))\n",
    "%memit raw_eeg.append(io.loadmat('./Preprocessed_EEG/5_20140418.mat'))\n",
    "%memit raw_eeg.append(io.loadmat('./Preprocessed_EEG/5_20140506.mat'))\n",
    "%memit raw_eeg.append(io.loadmat('./Preprocessed_EEG/6_20130712.mat'))\n",
    "%memit raw_eeg.append(io.loadmat('./Preprocessed_EEG/6_20131016.mat'))\n",
    "%memit raw_eeg.append(io.loadmat('./Preprocessed_EEG/6_20131113.mat'))\n",
    "%memit raw_eeg.append(io.loadmat('./Preprocessed_EEG/7_20131027.mat'))\n",
    "%memit raw_eeg.append(io.loadmat('./Preprocessed_EEG/7_20131030.mat'))\n",
    "%memit raw_eeg.append(io.loadmat('./Preprocessed_EEG/7_20131106.mat'))\n",
    "%memit raw_eeg.append(io.loadmat('./Preprocessed_EEG/8_20140511.mat'))\n",
    "%memit raw_eeg.append(io.loadmat('./Preprocessed_EEG/8_20140514.mat'))\n",
    "%memit raw_eeg.append(io.loadmat('./Preprocessed_EEG/8_20140521.mat'))\n",
    "%memit raw_eeg.append(io.loadmat('./Preprocessed_EEG/9_20140620.mat'))\n",
    "%memit raw_eeg.append(io.loadmat('./Preprocessed_EEG/9_20140627.mat'))\n",
    "%memit raw_eeg.append(io.loadmat('./Preprocessed_EEG/9_20140704.mat'))\n",
    "%memit raw_eeg.append(io.loadmat('./Preprocessed_EEG/10_20131130.mat'))\n",
    "%memit raw_eeg.append(io.loadmat('./Preprocessed_EEG/10_20131204.mat'))\n",
    "%memit raw_eeg.append(io.loadmat('./Preprocessed_EEG/10_20131211.mat'))\n",
    "%memit raw_eeg.append(io.loadmat('./Preprocessed_EEG/11_20140618.mat'))\n",
    "%memit raw_eeg.append(io.loadmat('./Preprocessed_EEG/11_20140625.mat'))\n",
    "%memit raw_eeg.append(io.loadmat('./Preprocessed_EEG/11_20140630.mat'))\n",
    "%memit raw_eeg.append(io.loadmat('./Preprocessed_EEG/12_20131127.mat'))\n",
    "%memit raw_eeg.append(io.loadmat('./Preprocessed_EEG/12_20131201.mat'))\n",
    "%memit raw_eeg.append(io.loadmat('./Preprocessed_EEG/12_20131207.mat'))\n",
    "# %memit raw_eeg.append(io.loadmat('./Preprocessed_EEG/13_20140527.mat'))\n",
    "# %memit raw_eeg.append(io.loadmat('./Preprocessed_EEG/13_20140603.mat'))\n",
    "# %memit raw_eeg.append(io.loadmat('./Preprocessed_EEG/13_20140610.mat'))\n",
    "# %memit raw_eeg.append(io.loadmat('./Preprocessed_EEG/14_20140601.mat'))\n",
    "# %memit raw_eeg.append(io.loadmat('./Preprocessed_EEG/14_20140615.mat'))\n",
    "# %memit raw_eeg.append(io.loadmat('./Preprocessed_EEG/14_20140627.mat'))\n",
    "# %memit raw_eeg.append(io.loadmat('./Preprocessed_EEG/15_20130709.mat'))\n",
    "# %memit raw_eeg.append(io.loadmat('./Preprocessed_EEG/15_20131016.mat'))\n",
    "# %memit raw_eeg.append(io.loadmat('./Preprocessed_EEG/15_20131105.mat'))"
   ]
  },
  {
   "cell_type": "markdown",
   "metadata": {},
   "source": [
    "raw_1_1['djc_eeg1']:\n",
    "- raw_1_1: the raw eeg data, the 1st subject(out of 15 subjects), the 1st experiments(out of 3 experiments)\n",
    "- 'djc_eeg1': djc could possibly mean the name of the subject(which leaks the privacy XD), and 'eeg1' represents it is the 1st trial(out of 15 trials)\n",
    "- 62: n_channels\n",
    "- 47001: roughly 4 mins(240sec * 200 Hz sampling rate) the eeg signal during watching the movies"
   ]
  },
  {
   "cell_type": "code",
   "execution_count": 3,
   "metadata": {},
   "outputs": [],
   "source": [
    "label = io.loadmat('./Preprocessed_EEG/label.mat')"
   ]
  },
  {
   "cell_type": "code",
   "execution_count": 4,
   "metadata": {},
   "outputs": [
    {
     "data": {
      "text/plain": [
       "array([ 1,  0, -1, -1,  0,  1, -1,  0,  1,  1,  0, -1,  0,  1, -1],\n",
       "      dtype=int16)"
      ]
     },
     "execution_count": 4,
     "metadata": {},
     "output_type": "execute_result"
    }
   ],
   "source": [
    "label['label'][0]"
   ]
  },
  {
   "cell_type": "markdown",
   "metadata": {},
   "source": [
    "## 1.2 Create the torch dataset"
   ]
  },
  {
   "cell_type": "markdown",
   "metadata": {},
   "source": [
    "### 1.2.1 cut compute windows\n",
    "\n",
    "since a movie clip contains eeg signals of ~240 seconds with sf=200Hz, I decide to cut them into 4 sec windows"
   ]
  },
  {
   "cell_type": "code",
   "execution_count": 5,
   "metadata": {},
   "outputs": [],
   "source": [
    "len_window = 200 * 4\n",
    "\n",
    "raw_X = []\n",
    "raw_y = []\n",
    "\n",
    "prefix = ['djc', 'jl', 'jj', 'lqj', 'ly', 'mhw', 'phl', 'sxy', 'wk', 'ww', 'wsf', 'wyw', 'xyl', 'ys', 'zjy']\n",
    "sub = 0\n",
    "\n",
    "while raw_eeg and sub < 12: # only using the first 12 subjects to avoid memory exceed\n",
    "    # exp 1\n",
    "    element = raw_eeg.pop(0)\n",
    "    for i in range(1, 16):\n",
    "        data = element[prefix[sub] + \"_eeg\" + str(i)]\n",
    "        # print(data.shape)\n",
    "        n_windows = data.shape[1] // len_window\n",
    "        # print(n_windows)\n",
    "        reshaped_X = np.reshape(data[:, :n_windows * len_window], (62, len_window, n_windows))\n",
    "        raw_X.append(reshaped_X)\n",
    "        raw_y.append(np.array([label['label'][0][i-1] for j in range(n_windows)]))\n",
    "    del element\n",
    "\n",
    "\n",
    "    # exp 2 \n",
    "    element = raw_eeg.pop(0)\n",
    "    for i in range(1, 16):\n",
    "        data = element[prefix[sub] + \"_eeg\" + str(i)]\n",
    "        # print(data.shape)\n",
    "        n_windows = data.shape[1] // len_window\n",
    "        # print(n_windows)\n",
    "        reshaped_X = np.reshape(data[:, :n_windows * len_window], (62, len_window, n_windows))\n",
    "        raw_X.append(reshaped_X)\n",
    "        raw_y.append(np.array([label['label'][0][i-1] for j in range(n_windows)]))\n",
    "    del element\n",
    "\n",
    "    # exp 1\n",
    "    element = raw_eeg.pop(0)\n",
    "    for i in range(1, 16):\n",
    "        data = element[prefix[sub] + \"_eeg\" + str(i)]\n",
    "        # print(data.shape)\n",
    "        n_windows = data.shape[1] // len_window\n",
    "        # print(n_windows)\n",
    "        reshaped_X = np.reshape(data[:, :n_windows * len_window], (62, len_window, n_windows))\n",
    "        raw_X.append(reshaped_X)\n",
    "        raw_y.append(np.array([label['label'][0][i-1] for j in range(n_windows)]))\n",
    "    del element\n",
    "\n",
    "    sub += 1"
   ]
  },
  {
   "cell_type": "code",
   "execution_count": 6,
   "metadata": {},
   "outputs": [
    {
     "name": "stdout",
     "output_type": "stream",
     "text": [
      "peak memory: 23272.29 MiB, increment: 11470.61 MiB\n",
      "(62, 800, 30312)\n",
      "(30312,)\n",
      "peak memory: 23272.30 MiB, increment: 0.00 MiB\n"
     ]
    }
   ],
   "source": [
    "%memit concat_X = np.concatenate(raw_X, axis=2)\n",
    "print(concat_X.shape)\n",
    "concat_y = np.concatenate(raw_y)\n",
    "print(concat_y.shape)\n",
    "\n",
    "%memit del raw_X, raw_y"
   ]
  },
  {
   "cell_type": "markdown",
   "metadata": {},
   "source": [
    "### 1.2.2 Encode the labels"
   ]
  },
  {
   "cell_type": "code",
   "execution_count": 8,
   "metadata": {},
   "outputs": [],
   "source": [
    "from sklearn.preprocessing import LabelEncoder\n",
    "import pandas as pd"
   ]
  },
  {
   "cell_type": "code",
   "execution_count": 9,
   "metadata": {},
   "outputs": [
    {
     "data": {
      "text/plain": [
       "array([ 1,  1,  1, ..., -1, -1, -1], dtype=int16)"
      ]
     },
     "execution_count": 9,
     "metadata": {},
     "output_type": "execute_result"
    }
   ],
   "source": [
    "concat_y"
   ]
  },
  {
   "cell_type": "code",
   "execution_count": 10,
   "metadata": {},
   "outputs": [
    {
     "data": {
      "text/html": [
       "<div>\n",
       "<style scoped>\n",
       "    .dataframe tbody tr th:only-of-type {\n",
       "        vertical-align: middle;\n",
       "    }\n",
       "\n",
       "    .dataframe tbody tr th {\n",
       "        vertical-align: top;\n",
       "    }\n",
       "\n",
       "    .dataframe thead th {\n",
       "        text-align: right;\n",
       "    }\n",
       "</style>\n",
       "<table border=\"1\" class=\"dataframe\">\n",
       "  <thead>\n",
       "    <tr style=\"text-align: right;\">\n",
       "      <th></th>\n",
       "      <th>0</th>\n",
       "      <th>1</th>\n",
       "      <th>2</th>\n",
       "    </tr>\n",
       "  </thead>\n",
       "  <tbody>\n",
       "    <tr>\n",
       "      <th>0</th>\n",
       "      <td>0</td>\n",
       "      <td>0</td>\n",
       "      <td>1</td>\n",
       "    </tr>\n",
       "    <tr>\n",
       "      <th>1</th>\n",
       "      <td>0</td>\n",
       "      <td>0</td>\n",
       "      <td>1</td>\n",
       "    </tr>\n",
       "    <tr>\n",
       "      <th>2</th>\n",
       "      <td>0</td>\n",
       "      <td>0</td>\n",
       "      <td>1</td>\n",
       "    </tr>\n",
       "    <tr>\n",
       "      <th>3</th>\n",
       "      <td>0</td>\n",
       "      <td>0</td>\n",
       "      <td>1</td>\n",
       "    </tr>\n",
       "    <tr>\n",
       "      <th>4</th>\n",
       "      <td>0</td>\n",
       "      <td>0</td>\n",
       "      <td>1</td>\n",
       "    </tr>\n",
       "    <tr>\n",
       "      <th>...</th>\n",
       "      <td>...</td>\n",
       "      <td>...</td>\n",
       "      <td>...</td>\n",
       "    </tr>\n",
       "    <tr>\n",
       "      <th>30307</th>\n",
       "      <td>1</td>\n",
       "      <td>0</td>\n",
       "      <td>0</td>\n",
       "    </tr>\n",
       "    <tr>\n",
       "      <th>30308</th>\n",
       "      <td>1</td>\n",
       "      <td>0</td>\n",
       "      <td>0</td>\n",
       "    </tr>\n",
       "    <tr>\n",
       "      <th>30309</th>\n",
       "      <td>1</td>\n",
       "      <td>0</td>\n",
       "      <td>0</td>\n",
       "    </tr>\n",
       "    <tr>\n",
       "      <th>30310</th>\n",
       "      <td>1</td>\n",
       "      <td>0</td>\n",
       "      <td>0</td>\n",
       "    </tr>\n",
       "    <tr>\n",
       "      <th>30311</th>\n",
       "      <td>1</td>\n",
       "      <td>0</td>\n",
       "      <td>0</td>\n",
       "    </tr>\n",
       "  </tbody>\n",
       "</table>\n",
       "<p>30312 rows × 3 columns</p>\n",
       "</div>"
      ],
      "text/plain": [
       "       0  1  2\n",
       "0      0  0  1\n",
       "1      0  0  1\n",
       "2      0  0  1\n",
       "3      0  0  1\n",
       "4      0  0  1\n",
       "...   .. .. ..\n",
       "30307  1  0  0\n",
       "30308  1  0  0\n",
       "30309  1  0  0\n",
       "30310  1  0  0\n",
       "30311  1  0  0\n",
       "\n",
       "[30312 rows x 3 columns]"
      ]
     },
     "execution_count": 10,
     "metadata": {},
     "output_type": "execute_result"
    }
   ],
   "source": [
    "le = LabelEncoder()\n",
    "y = le.fit_transform(concat_y)\n",
    "y = pd.get_dummies(y)\n",
    "y"
   ]
  },
  {
   "cell_type": "markdown",
   "metadata": {},
   "source": [
    "one-hot encoding\n",
    "- positive:  1 => [0, 0 ,1]\n",
    "- neutral:   0 => [0, 1, 0]\n",
    "- negative: -1 => [1, 0, 0]"
   ]
  },
  {
   "cell_type": "code",
   "execution_count": 11,
   "metadata": {},
   "outputs": [
    {
     "data": {
      "text/plain": [
       "((30312, 3), (62, 800, 30312))"
      ]
     },
     "execution_count": 11,
     "metadata": {},
     "output_type": "execute_result"
    }
   ],
   "source": [
    "y.shape, concat_X.shape"
   ]
  },
  {
   "cell_type": "markdown",
   "metadata": {},
   "source": [
    "# Step 2. Create EEG-conformer model"
   ]
  },
  {
   "cell_type": "code",
   "execution_count": 12,
   "metadata": {},
   "outputs": [
    {
     "name": "stderr",
     "output_type": "stream",
     "text": [
      "/home/pai/envs/fbc/lib/python3.7/site-packages/tqdm/auto.py:21: TqdmWarning: IProgress not found. Please update jupyter and ipywidgets. See https://ipywidgets.readthedocs.io/en/stable/user_install.html\n",
      "  from .autonotebook import tqdm as notebook_tqdm\n"
     ]
    }
   ],
   "source": [
    "import torch\n",
    "from sklearn.model_selection import train_test_split\n",
    "import torch.nn as nn\n",
    "import torch.optim as optim\n",
    "from torch.utils.data import DataLoader, TensorDataset\n",
    "from tqdm import tqdm\n",
    "import matplotlib_inline"
   ]
  },
  {
   "cell_type": "code",
   "execution_count": 13,
   "metadata": {},
   "outputs": [
    {
     "data": {
      "text/plain": [
       "'11.7'"
      ]
     },
     "execution_count": 13,
     "metadata": {},
     "output_type": "execute_result"
    }
   ],
   "source": [
    "cuda_version = torch.version.cuda\n",
    "cuda_version"
   ]
  },
  {
   "cell_type": "code",
   "execution_count": 14,
   "metadata": {},
   "outputs": [
    {
     "name": "stdout",
     "output_type": "stream",
     "text": [
      "GRUModel(\n",
      "  (gru): GRU(62, 256, batch_first=True)\n",
      "  (flatten): Flatten(start_dim=1, end_dim=-1)\n",
      "  (fc): Linear(in_features=256, out_features=3, bias=True)\n",
      ")\n"
     ]
    }
   ],
   "source": [
    "class GRUModel(nn.Module):\n",
    "    def __init__(self, input_size, hidden_size, output_size):\n",
    "        super(GRUModel, self).__init__()\n",
    "        self.gru = nn.GRU(input_size, hidden_size, batch_first=True) # input [n_batch, n_seq, n_inputsz=n_chans]\n",
    "        self.flatten = nn.Flatten()\n",
    "        self.fc = nn.Linear(hidden_size, output_size)\n",
    "        \n",
    "    def forward(self, x):\n",
    "        gru_output, _ = self.gru(x)\n",
    "        flat = self.flatten(gru_output[:, -1: :])\n",
    "        output = self.fc(flat)\n",
    "        return output\n",
    "\n",
    "# 定义模型输入、输出维度\n",
    "input_size = 62 \n",
    "hidden_size = 256\n",
    "output_size = 3\n",
    "\n",
    "# 创建模型实例\n",
    "model = GRUModel(input_size, hidden_size, output_size)\n",
    "\n",
    "# 打印模型结构\n",
    "print(model)"
   ]
  },
  {
   "cell_type": "code",
   "execution_count": 15,
   "metadata": {},
   "outputs": [
    {
     "name": "stdout",
     "output_type": "stream",
     "text": [
      "the model will be trained on:  cuda\n"
     ]
    },
    {
     "data": {
      "text/plain": [
       "GRUModel(\n",
       "  (gru): GRU(62, 256, batch_first=True)\n",
       "  (flatten): Flatten(start_dim=1, end_dim=-1)\n",
       "  (fc): Linear(in_features=256, out_features=3, bias=True)\n",
       ")"
      ]
     },
     "execution_count": 15,
     "metadata": {},
     "output_type": "execute_result"
    }
   ],
   "source": [
    "    device = torch.device(\"cuda\" if torch.cuda.is_available() else \"cpu\")\n",
    "    print('the model will be trained on: ', device)\n",
    "    model.to(device)"
   ]
  },
  {
   "cell_type": "code",
   "execution_count": 16,
   "metadata": {},
   "outputs": [
    {
     "name": "stdout",
     "output_type": "stream",
     "text": [
      "----------------------------------------------------------------\n",
      "        Layer (type)               Output Shape         Param #\n",
      "================================================================\n",
      "               GRU-1  [[-1, 32, 256], [-1, 2, 256]]               0\n",
      "           Flatten-2                  [-1, 256]               0\n",
      "            Linear-3                    [-1, 3]             771\n",
      "================================================================\n",
      "Total params: 771\n",
      "Trainable params: 771\n",
      "Non-trainable params: 0\n",
      "----------------------------------------------------------------\n",
      "Input size (MB): 0.01\n",
      "Forward/backward pass size (MB): 32.00\n",
      "Params size (MB): 0.00\n",
      "Estimated Total Size (MB): 32.01\n",
      "----------------------------------------------------------------\n"
     ]
    }
   ],
   "source": [
    "from torchsummary import summary\n",
    "summary(model, input_size=(32, input_size))"
   ]
  },
  {
   "cell_type": "markdown",
   "metadata": {},
   "source": [
    "# Step 3. Training the model"
   ]
  },
  {
   "cell_type": "markdown",
   "metadata": {},
   "source": [
    "## 3.1 prepare the train set / test set"
   ]
  },
  {
   "cell_type": "code",
   "execution_count": 17,
   "metadata": {},
   "outputs": [
    {
     "data": {
      "text/plain": [
       "((62, 800, 30312), (30312, 3))"
      ]
     },
     "execution_count": 17,
     "metadata": {},
     "output_type": "execute_result"
    }
   ],
   "source": [
    "concat_X.shape, y.shape"
   ]
  },
  {
   "cell_type": "code",
   "execution_count": 18,
   "metadata": {},
   "outputs": [
    {
     "data": {
      "text/plain": [
       "(30312, 800, 62)"
      ]
     },
     "execution_count": 18,
     "metadata": {},
     "output_type": "execute_result"
    }
   ],
   "source": [
    "X = concat_X.transpose((2, 1, 0))\n",
    "X.shape"
   ]
  },
  {
   "cell_type": "code",
   "execution_count": 19,
   "metadata": {},
   "outputs": [],
   "source": [
    "del concat_X"
   ]
  },
  {
   "cell_type": "code",
   "execution_count": 20,
   "metadata": {},
   "outputs": [],
   "source": [
    "X_train, X_test, y_train, y_test = train_test_split(X, y, train_size=0.7, random_state=777)"
   ]
  },
  {
   "cell_type": "code",
   "execution_count": 21,
   "metadata": {},
   "outputs": [],
   "source": [
    "del X, y"
   ]
  },
  {
   "cell_type": "code",
   "execution_count": 22,
   "metadata": {},
   "outputs": [
    {
     "data": {
      "text/plain": [
       "((21218, 800, 62), (9094, 800, 62), (21218, 3), (9094, 3))"
      ]
     },
     "execution_count": 22,
     "metadata": {},
     "output_type": "execute_result"
    }
   ],
   "source": [
    "X_train.shape, X_test.shape, y_train.shape, y_test.shape"
   ]
  },
  {
   "cell_type": "markdown",
   "metadata": {},
   "source": [
    "## 3.2 Training"
   ]
  },
  {
   "cell_type": "code",
   "execution_count": 23,
   "metadata": {},
   "outputs": [],
   "source": [
    "criterion = nn.CrossEntropyLoss()\n",
    "optimizer = optim.Adam(model.parameters(), lr=0.001)\n",
    "\n",
    "x_train_tensor = torch.from_numpy(X_train).to(torch.float32).to(device)\n",
    "y_train_tensor = torch.from_numpy(y_train.values).to(torch.float32).to(device)\n",
    "train_dataset = TensorDataset(x_train_tensor, y_train_tensor)\n",
    "train_loader = DataLoader(train_dataset, batch_size=32, shuffle=True)\n",
    "\n",
    "x_test_tensor = torch.from_numpy(X_test).to(torch.float32).to(device)\n",
    "y_test_tensor = torch.from_numpy(y_test.values).to(torch.float32).to(device)\n",
    "test_dataset = TensorDataset(x_test_tensor, y_test_tensor)\n",
    "test_loader = DataLoader(test_dataset, batch_size=32, shuffle=False)"
   ]
  },
  {
   "cell_type": "code",
   "execution_count": 24,
   "metadata": {},
   "outputs": [],
   "source": [
    "train_acc_list = []\n",
    "train_loss_list = []\n",
    "test_acc_list = []\n",
    "test_loss_list = []"
   ]
  },
  {
   "cell_type": "code",
   "execution_count": 25,
   "metadata": {},
   "outputs": [],
   "source": [
    "def train(model, x_train, y_train, x_test, y_test, save_path='./model_gru/', n_epochs=100):\n",
    "    \"\"\"\n",
    "    the training function.\n",
    "    Attributes:\n",
    "    - model: the instance of the network\n",
    "    - save_path: the path to which the model state will be saved. None means w/o saving.\n",
    "\n",
    "    Return: \n",
    "    the best model if save_path is not None, the last model otherwise\n",
    "    \"\"\"\n",
    "    train_acc_list.clear()\n",
    "    train_loss_list.clear()\n",
    "    test_acc_list.clear()\n",
    "    test_loss_list.clear()\n",
    "    device = torch.device(\"cuda\" if torch.cuda.is_available() else \"cpu\")\n",
    "    print('the model will be trained on: ', device)\n",
    "\n",
    "    best_accuracy = 0.0\n",
    "    \n",
    "    for epoch in range(n_epochs):\n",
    "        training_loss = 0.0\n",
    "        testing_loss = 0.0\n",
    "        correct = 0\n",
    "        total = 0\n",
    "        \n",
    "        model.train()\n",
    "        for inputs, labels in tqdm(train_loader):\n",
    "            # print(inputs.shape, labels.shape)\n",
    "            inputs = inputs.to(device)\n",
    "            labels = labels.to(device)\n",
    "            # print(\"lables.size\", labels.shape)\n",
    "            optimizer.zero_grad()\n",
    "            \n",
    "            outputs = model(inputs)\n",
    "            # print(outputs.shape)\n",
    "            loss = criterion(outputs, labels)\n",
    "            loss.backward()\n",
    "            optimizer.step()\n",
    "            \n",
    "            training_loss += loss.item()\n",
    "            _, predicted = torch.max(outputs.data, 1)\n",
    "            _, label = torch.max(labels, 1)\n",
    "            # print(predicted.shape)\n",
    "            total += labels.size(0)\n",
    "            correct += (predicted == label).sum().item()\n",
    "        \n",
    "        train_loss = training_loss / len(train_loader)\n",
    "        train_loss_list.append(train_loss)\n",
    "        train_accuracy = correct / total\n",
    "        train_acc_list.append(train_accuracy)\n",
    "\n",
    "        model.eval()\n",
    "        with torch.no_grad():\n",
    "            correct = 0\n",
    "            total = 0\n",
    "            \n",
    "            for inputs, labels in test_loader:\n",
    "                inputs = inputs.to(device)\n",
    "                labels = labels.to(device)\n",
    "                \n",
    "                outputs = model(inputs)\n",
    "                loss = criterion(outputs, labels)\n",
    "                testing_loss += loss.item()\n",
    "\n",
    "\n",
    "                _, predicted = torch.max(outputs.data, 1)\n",
    "                _, label = torch.max(labels, 1)\n",
    "                total += labels.size(0)\n",
    "                correct += (predicted == label).sum().item()\n",
    "            \n",
    "            test_loss = testing_loss / len(test_loader)\n",
    "            test_loss_list.append(test_loss)\n",
    "            test_accuracy = correct / total\n",
    "            test_acc_list.append(test_accuracy)\n",
    "\n",
    "            if test_accuracy > best_accuracy:\n",
    "                best_accuracy = test_accuracy\n",
    "                if save_path is not None:\n",
    "                    torch.save(model.state_dict(), save_path + 'best_model.pth')\n",
    "                    print(\"best_model found, best acc: \", best_accuracy)\n",
    "        \n",
    "        print(f\"Epoch {epoch+1}/{n_epochs} - Train Loss: {train_loss:.4f} - Train Accuracy: {train_accuracy:.4f} - Test Loss: {test_loss:.4f} - Test Accuracy: {test_accuracy:.4f}\")\n",
    "    \n",
    "    if save_path is not None: \n",
    "        model.load_state_dict(torch.load(save_path + 'best_model.pth'))\n",
    "    \n",
    "    return model"
   ]
  },
  {
   "cell_type": "code",
   "execution_count": 26,
   "metadata": {},
   "outputs": [
    {
     "name": "stdout",
     "output_type": "stream",
     "text": [
      "the model will be trained on:  cuda\n"
     ]
    },
    {
     "name": "stderr",
     "output_type": "stream",
     "text": [
      "100%|██████████| 664/664 [00:21<00:00, 30.63it/s]\n"
     ]
    },
    {
     "name": "stdout",
     "output_type": "stream",
     "text": [
      "best_model found, best acc:  0.9516164504068617\n",
      "Epoch 1/50 - Train Loss: 0.3795 - Train Accuracy: 0.8535 - Test Loss: 0.1368 - Test Accuracy: 0.9516\n"
     ]
    },
    {
     "name": "stderr",
     "output_type": "stream",
     "text": [
      "100%|██████████| 664/664 [00:21<00:00, 30.84it/s]\n"
     ]
    },
    {
     "name": "stdout",
     "output_type": "stream",
     "text": [
      "best_model found, best acc:  0.9659115900593798\n",
      "Epoch 2/50 - Train Loss: 0.0920 - Train Accuracy: 0.9685 - Test Loss: 0.0885 - Test Accuracy: 0.9659\n"
     ]
    },
    {
     "name": "stderr",
     "output_type": "stream",
     "text": [
      "100%|██████████| 664/664 [00:21<00:00, 31.06it/s]\n"
     ]
    },
    {
     "name": "stdout",
     "output_type": "stream",
     "text": [
      "Epoch 3/50 - Train Loss: 0.0620 - Train Accuracy: 0.9760 - Test Loss: 0.0896 - Test Accuracy: 0.9659\n"
     ]
    },
    {
     "name": "stderr",
     "output_type": "stream",
     "text": [
      "100%|██████████| 664/664 [00:21<00:00, 31.10it/s]\n"
     ]
    },
    {
     "name": "stdout",
     "output_type": "stream",
     "text": [
      "Epoch 4/50 - Train Loss: 0.0802 - Train Accuracy: 0.9696 - Test Loss: 0.1053 - Test Accuracy: 0.9601\n"
     ]
    },
    {
     "name": "stderr",
     "output_type": "stream",
     "text": [
      "100%|██████████| 664/664 [00:21<00:00, 30.92it/s]\n"
     ]
    },
    {
     "name": "stdout",
     "output_type": "stream",
     "text": [
      "best_model found, best acc:  0.9702001319551352\n",
      "Epoch 5/50 - Train Loss: 0.0746 - Train Accuracy: 0.9712 - Test Loss: 0.0745 - Test Accuracy: 0.9702\n"
     ]
    },
    {
     "name": "stderr",
     "output_type": "stream",
     "text": [
      "100%|██████████| 664/664 [00:21<00:00, 31.14it/s]\n"
     ]
    },
    {
     "name": "stdout",
     "output_type": "stream",
     "text": [
      "best_model found, best acc:  0.9705300197932702\n",
      "Epoch 6/50 - Train Loss: 0.0512 - Train Accuracy: 0.9786 - Test Loss: 0.0800 - Test Accuracy: 0.9705\n"
     ]
    },
    {
     "name": "stderr",
     "output_type": "stream",
     "text": [
      "100%|██████████| 664/664 [00:21<00:00, 30.96it/s]\n"
     ]
    },
    {
     "name": "stdout",
     "output_type": "stream",
     "text": [
      "Epoch 7/50 - Train Loss: 0.0569 - Train Accuracy: 0.9770 - Test Loss: 0.1289 - Test Accuracy: 0.9486\n"
     ]
    },
    {
     "name": "stderr",
     "output_type": "stream",
     "text": [
      "100%|██████████| 664/664 [00:21<00:00, 31.08it/s]\n"
     ]
    },
    {
     "name": "stdout",
     "output_type": "stream",
     "text": [
      "Epoch 8/50 - Train Loss: 0.0926 - Train Accuracy: 0.9631 - Test Loss: 0.1038 - Test Accuracy: 0.9594\n"
     ]
    },
    {
     "name": "stderr",
     "output_type": "stream",
     "text": [
      "100%|██████████| 664/664 [00:21<00:00, 30.86it/s]\n"
     ]
    },
    {
     "name": "stdout",
     "output_type": "stream",
     "text": [
      "best_model found, best acc:  0.9710798328568286\n",
      "Epoch 9/50 - Train Loss: 0.0635 - Train Accuracy: 0.9752 - Test Loss: 0.0772 - Test Accuracy: 0.9711\n"
     ]
    },
    {
     "name": "stderr",
     "output_type": "stream",
     "text": [
      "100%|██████████| 664/664 [00:21<00:00, 31.07it/s]\n"
     ]
    },
    {
     "name": "stdout",
     "output_type": "stream",
     "text": [
      "Epoch 10/50 - Train Loss: 0.0513 - Train Accuracy: 0.9783 - Test Loss: 0.0796 - Test Accuracy: 0.9694\n"
     ]
    },
    {
     "name": "stderr",
     "output_type": "stream",
     "text": [
      "100%|██████████| 664/664 [00:21<00:00, 30.96it/s]\n"
     ]
    },
    {
     "name": "stdout",
     "output_type": "stream",
     "text": [
      "Epoch 11/50 - Train Loss: 0.0487 - Train Accuracy: 0.9808 - Test Loss: 0.0846 - Test Accuracy: 0.9683\n"
     ]
    },
    {
     "name": "stderr",
     "output_type": "stream",
     "text": [
      "100%|██████████| 664/664 [00:21<00:00, 30.97it/s]\n"
     ]
    },
    {
     "name": "stdout",
     "output_type": "stream",
     "text": [
      "Epoch 12/50 - Train Loss: 0.0613 - Train Accuracy: 0.9752 - Test Loss: 0.0771 - Test Accuracy: 0.9694\n"
     ]
    },
    {
     "name": "stderr",
     "output_type": "stream",
     "text": [
      "100%|██████████| 664/664 [00:21<00:00, 30.97it/s]\n"
     ]
    },
    {
     "name": "stdout",
     "output_type": "stream",
     "text": [
      "Epoch 13/50 - Train Loss: 0.0632 - Train Accuracy: 0.9737 - Test Loss: 0.0852 - Test Accuracy: 0.9688\n"
     ]
    },
    {
     "name": "stderr",
     "output_type": "stream",
     "text": [
      "100%|██████████| 664/664 [00:21<00:00, 30.84it/s]\n"
     ]
    },
    {
     "name": "stdout",
     "output_type": "stream",
     "text": [
      "Epoch 14/50 - Train Loss: 0.0610 - Train Accuracy: 0.9757 - Test Loss: 0.0820 - Test Accuracy: 0.9682\n"
     ]
    },
    {
     "name": "stderr",
     "output_type": "stream",
     "text": [
      "100%|██████████| 664/664 [00:21<00:00, 31.13it/s]\n"
     ]
    },
    {
     "name": "stdout",
     "output_type": "stream",
     "text": [
      "Epoch 15/50 - Train Loss: 0.0614 - Train Accuracy: 0.9739 - Test Loss: 0.0816 - Test Accuracy: 0.9671\n"
     ]
    },
    {
     "name": "stderr",
     "output_type": "stream",
     "text": [
      "100%|██████████| 664/664 [00:21<00:00, 30.87it/s]\n"
     ]
    },
    {
     "name": "stdout",
     "output_type": "stream",
     "text": [
      "Epoch 16/50 - Train Loss: 0.0537 - Train Accuracy: 0.9776 - Test Loss: 0.0766 - Test Accuracy: 0.9705\n"
     ]
    },
    {
     "name": "stderr",
     "output_type": "stream",
     "text": [
      "100%|██████████| 664/664 [00:21<00:00, 30.85it/s]\n"
     ]
    },
    {
     "name": "stdout",
     "output_type": "stream",
     "text": [
      "best_model found, best acc:  0.9737189355619089\n",
      "Epoch 17/50 - Train Loss: 0.0503 - Train Accuracy: 0.9787 - Test Loss: 0.0675 - Test Accuracy: 0.9737\n"
     ]
    },
    {
     "name": "stderr",
     "output_type": "stream",
     "text": [
      "100%|██████████| 664/664 [00:21<00:00, 31.20it/s]\n"
     ]
    },
    {
     "name": "stdout",
     "output_type": "stream",
     "text": [
      "Epoch 18/50 - Train Loss: 0.0464 - Train Accuracy: 0.9802 - Test Loss: 0.0833 - Test Accuracy: 0.9700\n"
     ]
    },
    {
     "name": "stderr",
     "output_type": "stream",
     "text": [
      "100%|██████████| 664/664 [00:21<00:00, 31.15it/s]\n"
     ]
    },
    {
     "name": "stdout",
     "output_type": "stream",
     "text": [
      "Epoch 19/50 - Train Loss: 0.0568 - Train Accuracy: 0.9770 - Test Loss: 0.0931 - Test Accuracy: 0.9632\n"
     ]
    },
    {
     "name": "stderr",
     "output_type": "stream",
     "text": [
      "100%|██████████| 664/664 [00:21<00:00, 30.93it/s]\n"
     ]
    },
    {
     "name": "stdout",
     "output_type": "stream",
     "text": [
      "Epoch 20/50 - Train Loss: 0.0642 - Train Accuracy: 0.9749 - Test Loss: 0.0836 - Test Accuracy: 0.9679\n"
     ]
    },
    {
     "name": "stderr",
     "output_type": "stream",
     "text": [
      "100%|██████████| 664/664 [00:21<00:00, 30.90it/s]\n"
     ]
    },
    {
     "name": "stdout",
     "output_type": "stream",
     "text": [
      "Epoch 21/50 - Train Loss: 0.0487 - Train Accuracy: 0.9809 - Test Loss: 0.0829 - Test Accuracy: 0.9673\n"
     ]
    },
    {
     "name": "stderr",
     "output_type": "stream",
     "text": [
      "100%|██████████| 664/664 [00:21<00:00, 30.96it/s]\n"
     ]
    },
    {
     "name": "stdout",
     "output_type": "stream",
     "text": [
      "Epoch 22/50 - Train Loss: 0.0553 - Train Accuracy: 0.9777 - Test Loss: 0.1129 - Test Accuracy: 0.9580\n"
     ]
    },
    {
     "name": "stderr",
     "output_type": "stream",
     "text": [
      "100%|██████████| 664/664 [00:21<00:00, 30.88it/s]\n"
     ]
    },
    {
     "name": "stdout",
     "output_type": "stream",
     "text": [
      "Epoch 23/50 - Train Loss: 0.0560 - Train Accuracy: 0.9776 - Test Loss: 0.0844 - Test Accuracy: 0.9665\n"
     ]
    },
    {
     "name": "stderr",
     "output_type": "stream",
     "text": [
      "100%|██████████| 664/664 [00:21<00:00, 30.85it/s]\n"
     ]
    },
    {
     "name": "stdout",
     "output_type": "stream",
     "text": [
      "Epoch 24/50 - Train Loss: 0.0519 - Train Accuracy: 0.9795 - Test Loss: 0.0775 - Test Accuracy: 0.9692\n"
     ]
    },
    {
     "name": "stderr",
     "output_type": "stream",
     "text": [
      "100%|██████████| 664/664 [00:21<00:00, 30.78it/s]\n"
     ]
    },
    {
     "name": "stdout",
     "output_type": "stream",
     "text": [
      "Epoch 25/50 - Train Loss: 0.0603 - Train Accuracy: 0.9754 - Test Loss: 0.0819 - Test Accuracy: 0.9688\n"
     ]
    },
    {
     "name": "stderr",
     "output_type": "stream",
     "text": [
      "100%|██████████| 664/664 [00:21<00:00, 30.94it/s]\n"
     ]
    },
    {
     "name": "stdout",
     "output_type": "stream",
     "text": [
      "Epoch 26/50 - Train Loss: 0.0545 - Train Accuracy: 0.9785 - Test Loss: 0.0804 - Test Accuracy: 0.9698\n"
     ]
    },
    {
     "name": "stderr",
     "output_type": "stream",
     "text": [
      "100%|██████████| 664/664 [00:21<00:00, 31.02it/s]\n"
     ]
    },
    {
     "name": "stdout",
     "output_type": "stream",
     "text": [
      "Epoch 27/50 - Train Loss: 0.0632 - Train Accuracy: 0.9744 - Test Loss: 0.0700 - Test Accuracy: 0.9737\n"
     ]
    },
    {
     "name": "stderr",
     "output_type": "stream",
     "text": [
      "100%|██████████| 664/664 [00:21<00:00, 31.02it/s]\n"
     ]
    },
    {
     "name": "stdout",
     "output_type": "stream",
     "text": [
      "Epoch 28/50 - Train Loss: 0.0501 - Train Accuracy: 0.9794 - Test Loss: 0.0955 - Test Accuracy: 0.9622\n"
     ]
    },
    {
     "name": "stderr",
     "output_type": "stream",
     "text": [
      "100%|██████████| 664/664 [00:21<00:00, 31.03it/s]\n"
     ]
    },
    {
     "name": "stdout",
     "output_type": "stream",
     "text": [
      "Epoch 29/50 - Train Loss: 0.0526 - Train Accuracy: 0.9783 - Test Loss: 0.0756 - Test Accuracy: 0.9707\n"
     ]
    },
    {
     "name": "stderr",
     "output_type": "stream",
     "text": [
      "100%|██████████| 664/664 [00:21<00:00, 30.88it/s]\n"
     ]
    },
    {
     "name": "stdout",
     "output_type": "stream",
     "text": [
      "Epoch 30/50 - Train Loss: 0.0428 - Train Accuracy: 0.9821 - Test Loss: 0.0701 - Test Accuracy: 0.9718\n"
     ]
    },
    {
     "name": "stderr",
     "output_type": "stream",
     "text": [
      "100%|██████████| 664/664 [00:21<00:00, 30.91it/s]\n"
     ]
    },
    {
     "name": "stdout",
     "output_type": "stream",
     "text": [
      "Epoch 31/50 - Train Loss: 0.0529 - Train Accuracy: 0.9785 - Test Loss: 0.0969 - Test Accuracy: 0.9635\n"
     ]
    },
    {
     "name": "stderr",
     "output_type": "stream",
     "text": [
      "100%|██████████| 664/664 [00:21<00:00, 30.94it/s]\n"
     ]
    },
    {
     "name": "stdout",
     "output_type": "stream",
     "text": [
      "Epoch 32/50 - Train Loss: 0.0655 - Train Accuracy: 0.9761 - Test Loss: 0.0836 - Test Accuracy: 0.9675\n"
     ]
    },
    {
     "name": "stderr",
     "output_type": "stream",
     "text": [
      "100%|██████████| 664/664 [00:21<00:00, 30.57it/s]\n"
     ]
    },
    {
     "name": "stdout",
     "output_type": "stream",
     "text": [
      "Epoch 33/50 - Train Loss: 0.0557 - Train Accuracy: 0.9774 - Test Loss: 0.0933 - Test Accuracy: 0.9651\n"
     ]
    },
    {
     "name": "stderr",
     "output_type": "stream",
     "text": [
      "100%|██████████| 664/664 [00:21<00:00, 30.79it/s]\n"
     ]
    },
    {
     "name": "stdout",
     "output_type": "stream",
     "text": [
      "Epoch 34/50 - Train Loss: 0.0558 - Train Accuracy: 0.9772 - Test Loss: 0.0849 - Test Accuracy: 0.9691\n"
     ]
    },
    {
     "name": "stderr",
     "output_type": "stream",
     "text": [
      "100%|██████████| 664/664 [00:21<00:00, 31.24it/s]\n"
     ]
    },
    {
     "name": "stdout",
     "output_type": "stream",
     "text": [
      "Epoch 35/50 - Train Loss: 0.0486 - Train Accuracy: 0.9807 - Test Loss: 0.0751 - Test Accuracy: 0.9702\n"
     ]
    },
    {
     "name": "stderr",
     "output_type": "stream",
     "text": [
      "100%|██████████| 664/664 [00:21<00:00, 30.72it/s]\n"
     ]
    },
    {
     "name": "stdout",
     "output_type": "stream",
     "text": [
      "Epoch 36/50 - Train Loss: 0.0444 - Train Accuracy: 0.9826 - Test Loss: 0.0797 - Test Accuracy: 0.9697\n"
     ]
    },
    {
     "name": "stderr",
     "output_type": "stream",
     "text": [
      "100%|██████████| 664/664 [00:21<00:00, 30.91it/s]\n"
     ]
    },
    {
     "name": "stdout",
     "output_type": "stream",
     "text": [
      "Epoch 37/50 - Train Loss: 0.0500 - Train Accuracy: 0.9810 - Test Loss: 0.0782 - Test Accuracy: 0.9711\n"
     ]
    },
    {
     "name": "stderr",
     "output_type": "stream",
     "text": [
      "100%|██████████| 664/664 [00:21<00:00, 30.85it/s]\n"
     ]
    },
    {
     "name": "stdout",
     "output_type": "stream",
     "text": [
      "Epoch 38/50 - Train Loss: 0.0473 - Train Accuracy: 0.9805 - Test Loss: 0.0826 - Test Accuracy: 0.9682\n"
     ]
    },
    {
     "name": "stderr",
     "output_type": "stream",
     "text": [
      "100%|██████████| 664/664 [00:21<00:00, 30.62it/s]\n"
     ]
    },
    {
     "name": "stdout",
     "output_type": "stream",
     "text": [
      "Epoch 39/50 - Train Loss: 0.0453 - Train Accuracy: 0.9817 - Test Loss: 0.0798 - Test Accuracy: 0.9693\n"
     ]
    },
    {
     "name": "stderr",
     "output_type": "stream",
     "text": [
      "100%|██████████| 664/664 [00:21<00:00, 30.97it/s]\n"
     ]
    },
    {
     "name": "stdout",
     "output_type": "stream",
     "text": [
      "Epoch 40/50 - Train Loss: 0.0531 - Train Accuracy: 0.9791 - Test Loss: 0.0926 - Test Accuracy: 0.9649\n"
     ]
    },
    {
     "name": "stderr",
     "output_type": "stream",
     "text": [
      "100%|██████████| 664/664 [00:21<00:00, 31.08it/s]\n"
     ]
    },
    {
     "name": "stdout",
     "output_type": "stream",
     "text": [
      "Epoch 41/50 - Train Loss: 0.0621 - Train Accuracy: 0.9751 - Test Loss: 0.0963 - Test Accuracy: 0.9632\n"
     ]
    },
    {
     "name": "stderr",
     "output_type": "stream",
     "text": [
      "100%|██████████| 664/664 [00:21<00:00, 31.03it/s]\n"
     ]
    },
    {
     "name": "stdout",
     "output_type": "stream",
     "text": [
      "Epoch 42/50 - Train Loss: 0.0473 - Train Accuracy: 0.9807 - Test Loss: 0.0938 - Test Accuracy: 0.9651\n"
     ]
    },
    {
     "name": "stderr",
     "output_type": "stream",
     "text": [
      "100%|██████████| 664/664 [00:21<00:00, 30.89it/s]\n"
     ]
    },
    {
     "name": "stdout",
     "output_type": "stream",
     "text": [
      "Epoch 43/50 - Train Loss: 0.0452 - Train Accuracy: 0.9817 - Test Loss: 0.0823 - Test Accuracy: 0.9670\n"
     ]
    },
    {
     "name": "stderr",
     "output_type": "stream",
     "text": [
      "100%|██████████| 664/664 [00:21<00:00, 31.05it/s]\n"
     ]
    },
    {
     "name": "stdout",
     "output_type": "stream",
     "text": [
      "Epoch 44/50 - Train Loss: 0.0403 - Train Accuracy: 0.9844 - Test Loss: 0.0688 - Test Accuracy: 0.9731\n"
     ]
    },
    {
     "name": "stderr",
     "output_type": "stream",
     "text": [
      "100%|██████████| 664/664 [00:21<00:00, 31.09it/s]\n"
     ]
    },
    {
     "name": "stdout",
     "output_type": "stream",
     "text": [
      "Epoch 45/50 - Train Loss: 0.0489 - Train Accuracy: 0.9813 - Test Loss: 0.0816 - Test Accuracy: 0.9702\n"
     ]
    },
    {
     "name": "stderr",
     "output_type": "stream",
     "text": [
      "100%|██████████| 664/664 [00:21<00:00, 30.95it/s]\n"
     ]
    },
    {
     "name": "stdout",
     "output_type": "stream",
     "text": [
      "Epoch 46/50 - Train Loss: 0.0511 - Train Accuracy: 0.9797 - Test Loss: 0.0717 - Test Accuracy: 0.9729\n"
     ]
    },
    {
     "name": "stderr",
     "output_type": "stream",
     "text": [
      "100%|██████████| 664/664 [00:21<00:00, 30.74it/s]\n"
     ]
    },
    {
     "name": "stdout",
     "output_type": "stream",
     "text": [
      "Epoch 47/50 - Train Loss: 0.0475 - Train Accuracy: 0.9818 - Test Loss: 0.0968 - Test Accuracy: 0.9650\n"
     ]
    },
    {
     "name": "stderr",
     "output_type": "stream",
     "text": [
      "100%|██████████| 664/664 [00:21<00:00, 30.90it/s]\n"
     ]
    },
    {
     "name": "stdout",
     "output_type": "stream",
     "text": [
      "Epoch 48/50 - Train Loss: 0.0544 - Train Accuracy: 0.9796 - Test Loss: 0.0936 - Test Accuracy: 0.9661\n"
     ]
    },
    {
     "name": "stderr",
     "output_type": "stream",
     "text": [
      "100%|██████████| 664/664 [00:21<00:00, 30.99it/s]\n"
     ]
    },
    {
     "name": "stdout",
     "output_type": "stream",
     "text": [
      "Epoch 49/50 - Train Loss: 0.0563 - Train Accuracy: 0.9775 - Test Loss: 0.1038 - Test Accuracy: 0.9634\n"
     ]
    },
    {
     "name": "stderr",
     "output_type": "stream",
     "text": [
      "100%|██████████| 664/664 [00:21<00:00, 30.98it/s]\n"
     ]
    },
    {
     "name": "stdout",
     "output_type": "stream",
     "text": [
      "Epoch 50/50 - Train Loss: 0.0572 - Train Accuracy: 0.9779 - Test Loss: 0.0821 - Test Accuracy: 0.9692\n"
     ]
    }
   ],
   "source": [
    "best_model = train(model, X_train, X_test, y_train, y_test, n_epochs=50)"
   ]
  },
  {
   "cell_type": "markdown",
   "metadata": {},
   "source": [
    "# Step 4. Assessment"
   ]
  },
  {
   "cell_type": "markdown",
   "metadata": {},
   "source": [
    "## 4.1 Training plot"
   ]
  },
  {
   "cell_type": "code",
   "execution_count": 27,
   "metadata": {},
   "outputs": [],
   "source": [
    "from matplotlib import pyplot as plt"
   ]
  },
  {
   "cell_type": "code",
   "execution_count": 28,
   "metadata": {},
   "outputs": [
    {
     "data": {
      "text/plain": [
       "Text(0.5, 0, 'epoch')"
      ]
     },
     "execution_count": 28,
     "metadata": {},
     "output_type": "execute_result"
    },
    {
     "data": {
      "image/png": "[encoded data removed]",
      "text/plain": [
       "<Figure size 640x480 with 1 Axes>"
      ]
     },
     "metadata": {},
     "output_type": "display_data"
    }
   ],
   "source": [
    "plt.plot(train_acc_list, label='train_acc')\n",
    "plt.plot(test_acc_list, label='test_acc')\n",
    "plt.xlabel('epoch')"
   ]
  },
  {
   "cell_type": "code",
   "execution_count": 29,
   "metadata": {},
   "outputs": [
    {
     "data": {
      "text/plain": [
       "Text(0.5, 0, 'epoch')"
      ]
     },
     "execution_count": 29,
     "metadata": {},
     "output_type": "execute_result"
    },
    {
     "data": {
      "image/png": "[encoded data removed]",
      "text/plain": [
       "<Figure size 640x480 with 1 Axes>"
      ]
     },
     "metadata": {},
     "output_type": "display_data"
    }
   ],
   "source": [
    "plt.plot(train_loss_list, label='train_loss')\n",
    "plt.plot(test_loss_list, label='test_loss')\n",
    "plt.xlabel('epoch')"
   ]
  },
  {
   "cell_type": "markdown",
   "metadata": {},
   "source": [
    "## 4.2 Model Evaluation"
   ]
  },
  {
   "cell_type": "code",
   "execution_count": 30,
   "metadata": {},
   "outputs": [
    {
     "name": "stdout",
     "output_type": "stream",
     "text": [
      "Test Accuracy: 0.9737\n"
     ]
    }
   ],
   "source": [
    "best_model.eval()\n",
    "with torch.no_grad():\n",
    "    correct = 0\n",
    "    total = 0\n",
    "    \n",
    "    for inputs, labels in test_loader:\n",
    "        inputs = inputs.to(device)\n",
    "        labels = labels.to(device)\n",
    "        \n",
    "        outputs = best_model(inputs)\n",
    "        _, predicted = torch.max(outputs.data, 1)\n",
    "        _, label = torch.max(labels, 1)\n",
    "        total += labels.size(0)\n",
    "        correct += (predicted == label).sum().item()\n",
    "    \n",
    "    test_accuracy = correct / total\n",
    "\n",
    "print(f\"Test Accuracy: {test_accuracy:.4f}\")"
   ]
  }
 ],
 "metadata": {
  "kernelspec": {
   "display_name": "fbc",
   "language": "python",
   "name": "python3"
  },
  "language_info": {
   "codemirror_mode": {
    "name": "ipython",
    "version": 3
   },
   "file_extension": ".py",
   "mimetype": "text/x-python",
   "name": "python",
   "nbconvert_exporter": "python",
   "pygments_lexer": "ipython3",
   "version": "3.7.16"
  },
  "orig_nbformat": 4,
  "vscode": {
   "interpreter": {
    "hash": "0483d052ddfe31120a94f745be5965e40db576257e66e08bb5a082224a64a3a3"
   }
  }
 },
 "nbformat": 4,
 "nbformat_minor": 2
}
